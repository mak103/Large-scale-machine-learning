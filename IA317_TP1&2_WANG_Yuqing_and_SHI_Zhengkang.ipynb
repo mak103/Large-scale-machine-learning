{
 "cells": [
  {
   "cell_type": "markdown",
   "metadata": {},
   "source": [
    "<font color=\"red\" size=3.4> \n",
    "    Ce notebook a été réalisé par P. Bianchi et K. Elgui, Télécom ParisTech. Son usage est privé ne doit pas dépasser le cadre du cours \"IA317 Large scale machine learning\". En particulier, nous vous demandons de ne pas rendre\n",
    "    de code accessible via github ou autre moyen de partage.\n",
    "    </font> "
   ]
  },
  {
   "cell_type": "markdown",
   "metadata": {},
   "source": [
    "<font color=\"red\">\n",
    "Effectuer les imports nécessaires (numpy, pandas, etc.) ou le faire au fil de vos besoins.\n",
    "</font>"
   ]
  },
  {
   "cell_type": "code",
   "execution_count": 2,
   "metadata": {
    "collapsed": true
   },
   "outputs": [],
   "source": [
    "import numpy as np\n",
    "import pandas as pd\n",
    "import matplotlib.pyplot as plt\n",
    "import seaborn as sns\n",
    "import datetime\n",
    "import warnings \n",
    "warnings.filterwarnings(action='ignore')\n",
    "%matplotlib inline"
   ]
  },
  {
   "cell_type": "markdown",
   "metadata": {},
   "source": [
    "# Les données\n",
    "La signification des features est fournie ici https://www.kaggle.com/c/avazu-ctr-prediction/data  \n",
    "<font color=\"red\">\n",
    "Charger les données dans une dataframe et visualiser les premières lignes.</font>"
   ]
  },
  {
   "cell_type": "code",
   "execution_count": 32,
   "metadata": {
    "collapsed": true
   },
   "outputs": [],
   "source": [
    "df = pd.read_csv('../data/train-1000000')"
   ]
  },
  {
   "cell_type": "markdown",
   "metadata": {},
   "source": [
    "<font color=\"red\">\n",
    "Quelle est la fréquence des 'clicks' dans la base de donnée ? </font>"
   ]
  },
  {
   "cell_type": "code",
   "execution_count": 3,
   "metadata": {},
   "outputs": [
    {
     "name": "stdout",
     "output_type": "stream",
     "text": [
      "La frequence des 'clicks': 0.169971\n"
     ]
    }
   ],
   "source": [
    "print(\"La frequence des 'clicks': \" + str(df['click'].astype('int64').mean()))"
   ]
  },
  {
   "cell_type": "markdown",
   "metadata": {},
   "source": [
    "On est donc en présence d'un jeu de données déséquilibré. La classe des 'clics' constitue moins d'un cinquième de toute la base de données. On sait d'emblée qu'un classifieur prédisant toujours 'non-clic' aura d'assez bonnes performances en termes de taux d'erreur (de l'ordre de 0.17). La courbe ROC ou le lift seront de meilleures métriques de performance.\n",
    "<p>\n",
    "<font color=\"red\">\n",
    "Quelles sont les features catégorielles ? Combien de valeurs distinctes prennent-elles chacune ?</font>"
   ]
  },
  {
   "cell_type": "code",
   "execution_count": 4,
   "metadata": {},
   "outputs": [
    {
     "name": "stdout",
     "output_type": "stream",
     "text": [
      "<class 'pandas.core.frame.DataFrame'>\n",
      "RangeIndex: 1000000 entries, 0 to 999999\n",
      "Data columns (total 24 columns):\n",
      "id                  1000000 non-null float64\n",
      "click               1000000 non-null int64\n",
      "hour                1000000 non-null int64\n",
      "C1                  1000000 non-null int64\n",
      "banner_pos          1000000 non-null int64\n",
      "site_id             1000000 non-null object\n",
      "site_domain         1000000 non-null object\n",
      "site_category       1000000 non-null object\n",
      "app_id              1000000 non-null object\n",
      "app_domain          1000000 non-null object\n",
      "app_category        1000000 non-null object\n",
      "device_id           1000000 non-null object\n",
      "device_ip           1000000 non-null object\n",
      "device_model        1000000 non-null object\n",
      "device_type         1000000 non-null int64\n",
      "device_conn_type    1000000 non-null int64\n",
      "C14                 1000000 non-null int64\n",
      "C15                 1000000 non-null int64\n",
      "C16                 1000000 non-null int64\n",
      "C17                 1000000 non-null int64\n",
      "C18                 1000000 non-null int64\n",
      "C19                 1000000 non-null int64\n",
      "C20                 1000000 non-null int64\n",
      "C21                 1000000 non-null int64\n",
      "dtypes: float64(1), int64(14), object(9)\n",
      "memory usage: 183.1+ MB\n"
     ]
    }
   ],
   "source": [
    "df.info()"
   ]
  },
  {
   "cell_type": "code",
   "execution_count": 5,
   "metadata": {},
   "outputs": [
    {
     "data": {
      "text/html": [
       "<div>\n",
       "<style scoped>\n",
       "    .dataframe tbody tr th:only-of-type {\n",
       "        vertical-align: middle;\n",
       "    }\n",
       "\n",
       "    .dataframe tbody tr th {\n",
       "        vertical-align: top;\n",
       "    }\n",
       "\n",
       "    .dataframe thead th {\n",
       "        text-align: right;\n",
       "    }\n",
       "</style>\n",
       "<table border=\"1\" class=\"dataframe\">\n",
       "  <thead>\n",
       "    <tr style=\"text-align: right;\">\n",
       "      <th></th>\n",
       "      <th>id</th>\n",
       "      <th>click</th>\n",
       "      <th>hour</th>\n",
       "      <th>C1</th>\n",
       "      <th>banner_pos</th>\n",
       "      <th>site_id</th>\n",
       "      <th>site_domain</th>\n",
       "      <th>site_category</th>\n",
       "      <th>app_id</th>\n",
       "      <th>app_domain</th>\n",
       "      <th>...</th>\n",
       "      <th>device_type</th>\n",
       "      <th>device_conn_type</th>\n",
       "      <th>C14</th>\n",
       "      <th>C15</th>\n",
       "      <th>C16</th>\n",
       "      <th>C17</th>\n",
       "      <th>C18</th>\n",
       "      <th>C19</th>\n",
       "      <th>C20</th>\n",
       "      <th>C21</th>\n",
       "    </tr>\n",
       "  </thead>\n",
       "  <tbody>\n",
       "    <tr>\n",
       "      <th>0</th>\n",
       "      <td>3.983206e+18</td>\n",
       "      <td>0</td>\n",
       "      <td>14102915</td>\n",
       "      <td>1005</td>\n",
       "      <td>1</td>\n",
       "      <td>e151e245</td>\n",
       "      <td>7e091613</td>\n",
       "      <td>f028772b</td>\n",
       "      <td>ecad2386</td>\n",
       "      <td>7801e8d9</td>\n",
       "      <td>...</td>\n",
       "      <td>1</td>\n",
       "      <td>2</td>\n",
       "      <td>4687</td>\n",
       "      <td>320</td>\n",
       "      <td>50</td>\n",
       "      <td>423</td>\n",
       "      <td>2</td>\n",
       "      <td>39</td>\n",
       "      <td>100148</td>\n",
       "      <td>32</td>\n",
       "    </tr>\n",
       "    <tr>\n",
       "      <th>1</th>\n",
       "      <td>7.756884e+18</td>\n",
       "      <td>0</td>\n",
       "      <td>14103007</td>\n",
       "      <td>1002</td>\n",
       "      <td>0</td>\n",
       "      <td>cb809abf</td>\n",
       "      <td>74acf31a</td>\n",
       "      <td>50e219e0</td>\n",
       "      <td>ecad2386</td>\n",
       "      <td>7801e8d9</td>\n",
       "      <td>...</td>\n",
       "      <td>0</td>\n",
       "      <td>0</td>\n",
       "      <td>17894</td>\n",
       "      <td>320</td>\n",
       "      <td>50</td>\n",
       "      <td>2039</td>\n",
       "      <td>2</td>\n",
       "      <td>39</td>\n",
       "      <td>100077</td>\n",
       "      <td>32</td>\n",
       "    </tr>\n",
       "    <tr>\n",
       "      <th>2</th>\n",
       "      <td>6.941774e+17</td>\n",
       "      <td>0</td>\n",
       "      <td>14102711</td>\n",
       "      <td>1005</td>\n",
       "      <td>0</td>\n",
       "      <td>85f751fd</td>\n",
       "      <td>c4e18dd6</td>\n",
       "      <td>50e219e0</td>\n",
       "      <td>e9739828</td>\n",
       "      <td>df32afa9</td>\n",
       "      <td>...</td>\n",
       "      <td>1</td>\n",
       "      <td>0</td>\n",
       "      <td>22684</td>\n",
       "      <td>320</td>\n",
       "      <td>50</td>\n",
       "      <td>2619</td>\n",
       "      <td>1</td>\n",
       "      <td>163</td>\n",
       "      <td>100055</td>\n",
       "      <td>71</td>\n",
       "    </tr>\n",
       "    <tr>\n",
       "      <th>3</th>\n",
       "      <td>2.664154e+18</td>\n",
       "      <td>1</td>\n",
       "      <td>14102903</td>\n",
       "      <td>1005</td>\n",
       "      <td>0</td>\n",
       "      <td>85f751fd</td>\n",
       "      <td>c4e18dd6</td>\n",
       "      <td>50e219e0</td>\n",
       "      <td>a5184c22</td>\n",
       "      <td>b8d325c3</td>\n",
       "      <td>...</td>\n",
       "      <td>1</td>\n",
       "      <td>0</td>\n",
       "      <td>23222</td>\n",
       "      <td>320</td>\n",
       "      <td>50</td>\n",
       "      <td>2676</td>\n",
       "      <td>0</td>\n",
       "      <td>35</td>\n",
       "      <td>100176</td>\n",
       "      <td>221</td>\n",
       "    </tr>\n",
       "    <tr>\n",
       "      <th>4</th>\n",
       "      <td>1.480510e+19</td>\n",
       "      <td>0</td>\n",
       "      <td>14102902</td>\n",
       "      <td>1005</td>\n",
       "      <td>1</td>\n",
       "      <td>791b5571</td>\n",
       "      <td>fd13bc73</td>\n",
       "      <td>f028772b</td>\n",
       "      <td>ecad2386</td>\n",
       "      <td>7801e8d9</td>\n",
       "      <td>...</td>\n",
       "      <td>1</td>\n",
       "      <td>0</td>\n",
       "      <td>8330</td>\n",
       "      <td>320</td>\n",
       "      <td>50</td>\n",
       "      <td>761</td>\n",
       "      <td>3</td>\n",
       "      <td>175</td>\n",
       "      <td>100081</td>\n",
       "      <td>23</td>\n",
       "    </tr>\n",
       "  </tbody>\n",
       "</table>\n",
       "<p>5 rows × 24 columns</p>\n",
       "</div>"
      ],
      "text/plain": [
       "             id  click      hour    C1  banner_pos   site_id site_domain  \\\n",
       "0  3.983206e+18      0  14102915  1005           1  e151e245    7e091613   \n",
       "1  7.756884e+18      0  14103007  1002           0  cb809abf    74acf31a   \n",
       "2  6.941774e+17      0  14102711  1005           0  85f751fd    c4e18dd6   \n",
       "3  2.664154e+18      1  14102903  1005           0  85f751fd    c4e18dd6   \n",
       "4  1.480510e+19      0  14102902  1005           1  791b5571    fd13bc73   \n",
       "\n",
       "  site_category    app_id app_domain ...  device_type device_conn_type    C14  \\\n",
       "0      f028772b  ecad2386   7801e8d9 ...            1                2   4687   \n",
       "1      50e219e0  ecad2386   7801e8d9 ...            0                0  17894   \n",
       "2      50e219e0  e9739828   df32afa9 ...            1                0  22684   \n",
       "3      50e219e0  a5184c22   b8d325c3 ...            1                0  23222   \n",
       "4      f028772b  ecad2386   7801e8d9 ...            1                0   8330   \n",
       "\n",
       "   C15  C16   C17  C18  C19     C20  C21  \n",
       "0  320   50   423    2   39  100148   32  \n",
       "1  320   50  2039    2   39  100077   32  \n",
       "2  320   50  2619    1  163  100055   71  \n",
       "3  320   50  2676    0   35  100176  221  \n",
       "4  320   50   761    3  175  100081   23  \n",
       "\n",
       "[5 rows x 24 columns]"
      ]
     },
     "execution_count": 5,
     "metadata": {},
     "output_type": "execute_result"
    }
   ],
   "source": [
    "df.head()"
   ]
  },
  {
   "cell_type": "code",
   "execution_count": 6,
   "metadata": {},
   "outputs": [
    {
     "data": {
      "text/plain": [
       "{'C1': 7,\n",
       " 'C14': 2243,\n",
       " 'C15': 8,\n",
       " 'C16': 9,\n",
       " 'C17': 420,\n",
       " 'C18': 4,\n",
       " 'C19': 66,\n",
       " 'C20': 163,\n",
       " 'C21': 60,\n",
       " 'app_category': 26,\n",
       " 'app_domain': 198,\n",
       " 'app_id': 3157,\n",
       " 'banner_pos': 7,\n",
       " 'click': 2,\n",
       " 'device_conn_type': 4,\n",
       " 'device_id': 150501,\n",
       " 'device_ip': 555248,\n",
       " 'device_model': 5168,\n",
       " 'device_type': 5,\n",
       " 'hour': 240,\n",
       " 'id': 1000000,\n",
       " 'site_category': 22,\n",
       " 'site_domain': 2871,\n",
       " 'site_id': 2651}"
      ]
     },
     "execution_count": 6,
     "metadata": {},
     "output_type": "execute_result"
    }
   ],
   "source": [
    "valeurs_distinctes = []\n",
    "for item in df.columns:\n",
    "    valeurs_distinctes.append(len(df.groupby(item)))\n",
    "dict_valeurs_distinctes = {}\n",
    "for i in np.arange(0,len(df.columns)):\n",
    "    dict_valeurs_distinctes[df.columns[i]] = valeurs_distinctes[i]\n",
    "dict_valeurs_distinctes"
   ]
  },
  {
   "cell_type": "markdown",
   "metadata": {},
   "source": [
    "C1,C15,C16,C17,C18,C19,C20,C21,app_category,banner_pos,click,device_conn_type,device_type,hour,site_category are category features."
   ]
  },
  {
   "cell_type": "markdown",
   "metadata": {},
   "source": [
    "<font color=\"red\">\n",
    "Si on devait procéder à un encodage en dummies de toutes les variables catégorielles, quelle serait la dimension du modèle ?\n",
    "</font>"
   ]
  },
  {
   "cell_type": "code",
   "execution_count": 7,
   "metadata": {},
   "outputs": [
    {
     "data": {
      "text/plain": [
       "1723080"
      ]
     },
     "execution_count": 7,
     "metadata": {},
     "output_type": "execute_result"
    }
   ],
   "source": [
    "sum(valeurs_distinctes)"
   ]
  },
  {
   "cell_type": "markdown",
   "metadata": {},
   "source": [
    "There will be 1723080 dimensions "
   ]
  },
  {
   "cell_type": "markdown",
   "metadata": {},
   "source": [
    "<font color=\"red\">\n",
    "Analyser la colonne 'hour' : quel est le format utilisé ? Comment peut on transformer/simplifier cette feature ?</font>"
   ]
  },
  {
   "cell_type": "markdown",
   "metadata": {},
   "source": [
    "Feature 'hour' includes year,month,day,hour information.We can use datasplit to split 'hour' feature into 'weekday' and 'hour' features. "
   ]
  },
  {
   "cell_type": "markdown",
   "metadata": {},
   "source": [
    "<font color=\"red\">\n",
    "Tester le script suivant.</font>"
   ]
  },
  {
   "cell_type": "code",
   "execution_count": 3,
   "metadata": {},
   "outputs": [
    {
     "data": {
      "text/plain": [
       "(2, 15)"
      ]
     },
     "execution_count": 3,
     "metadata": {},
     "output_type": "execute_result"
    }
   ],
   "source": [
    "def datesplit(originalDate):\n",
    "    originalDate = str(originalDate)\n",
    "    year = int(originalDate[0:2])\n",
    "    month = int(originalDate[2:4])\n",
    "    day = int(originalDate[4:6])\n",
    "    hour = int(originalDate[6:8])\n",
    "    return datetime.datetime(year,month,day,hour)\n",
    "\n",
    "# Exemple :\n",
    "datesplit(14102915).weekday(), datesplit(14102915).hour  "
   ]
  },
  {
   "cell_type": "markdown",
   "metadata": {},
   "source": [
    "<font color=\"red\">\n",
    "Avec la méthode \"apply\", créer une colonne 'weekday' pour le jour de la semaine, et remplacer la colonne 'hour' par l'heure.</font>"
   ]
  },
  {
   "cell_type": "code",
   "execution_count": 4,
   "metadata": {
    "collapsed": true
   },
   "outputs": [],
   "source": [
    "df['weekday'] = df['hour'].apply(lambda x:datesplit(x).weekday())\n",
    "df['hour'] = df['hour'].apply(lambda x:datesplit(x).hour)"
   ]
  },
  {
   "cell_type": "markdown",
   "metadata": {},
   "source": [
    "<font color=\"red\">\n",
    "Avec la méthode \"groupby\", visualiser l'influence de l'heure et du jour sur les clicks.</font>"
   ]
  },
  {
   "cell_type": "code",
   "execution_count": 11,
   "metadata": {},
   "outputs": [
    {
     "data": {
      "text/plain": [
       "<matplotlib.axes._subplots.AxesSubplot at 0x26e0190dcf8>"
      ]
     },
     "execution_count": 11,
     "metadata": {},
     "output_type": "execute_result"
    },
    {
     "data": {
      "image/png": "[encoded data removed]",
      "text/plain": [
       "<Figure size 432x288 with 1 Axes>"
      ]
     },
     "metadata": {
      "needs_background": "light"
     },
     "output_type": "display_data"
    }
   ],
   "source": [
    "hour = df.groupby('hour')['click']\n",
    "hour.mean().plot()"
   ]
  },
  {
   "cell_type": "markdown",
   "metadata": {},
   "source": [
    "Commencer par comprendre les features ayant peu de modalités : \n",
    "'hour', 'weekday', 'C1', 'banner_pos', 'site_category', 'app_category', 'device_type', 'device_conn_type', 'C15', 'C16', 'C18', 'C21'.\n",
    "\n",
    "<font color=\"red\">\n",
    "Inspecter par exemple les colonnes 'C15' (dimension de l'annonce) et 'site_category' : visualiser la moyenne des clics.</font>"
   ]
  },
  {
   "cell_type": "code",
   "execution_count": 12,
   "metadata": {},
   "outputs": [
    {
     "data": {
      "text/plain": [
       "<matplotlib.axes._subplots.AxesSubplot at 0x26e19a5ba58>"
      ]
     },
     "execution_count": 12,
     "metadata": {},
     "output_type": "execute_result"
    },
    {
     "data": {
      "image/png": "[encoded data removed]",
      "text/plain": [
       "<Figure size 432x288 with 1 Axes>"
      ]
     },
     "metadata": {
      "needs_background": "light"
     },
     "output_type": "display_data"
    }
   ],
   "source": [
    "c15 = df.groupby('C15')['click']\n",
    "c15.mean().plot()"
   ]
  },
  {
   "cell_type": "code",
   "execution_count": 13,
   "metadata": {},
   "outputs": [
    {
     "data": {
      "text/plain": [
       "<matplotlib.axes._subplots.AxesSubplot at 0x26e0c95b8d0>"
      ]
     },
     "execution_count": 13,
     "metadata": {},
     "output_type": "execute_result"
    },
    {
     "data": {
      "image/png": "[encoded data removed]",
      "text/plain": [
       "<Figure size 432x288 with 1 Axes>"
      ]
     },
     "metadata": {
      "needs_background": "light"
     },
     "output_type": "display_data"
    }
   ],
   "source": [
    "site_category = df.groupby('site_category')['click']\n",
    "site_category.mean().plot()"
   ]
  },
  {
   "cell_type": "markdown",
   "metadata": {},
   "source": [
    "<font color=\"red\">\n",
    "Certaines catégories de site ont un taux de click nul. Pourquoi ? Vérifier en affichant le count de chaque modalité.</font>"
   ]
  },
  {
   "cell_type": "code",
   "execution_count": 14,
   "metadata": {},
   "outputs": [
    {
     "data": {
      "text/plain": [
       "site_category\n",
       "5378d028    0.0\n",
       "9ccfa2ea    0.0\n",
       "a818d37a    0.0\n",
       "bcf865d9    0.0\n",
       "c706e647    0.0\n",
       "da34532e    0.0\n",
       "e787de0e    0.0\n",
       "Name: click, dtype: float64"
      ]
     },
     "execution_count": 14,
     "metadata": {},
     "output_type": "execute_result"
    }
   ],
   "source": [
    "site_category.mean()[site_category.mean()==0.0]"
   ]
  },
  {
   "cell_type": "markdown",
   "metadata": {},
   "source": [
    "Site_category of 5378d028, 9ccfa2ea, a818d37a, bcf865d9, c706e647,da34532e, e787de0e have mull avergae click. However there are still a few clicks in those site_category."
   ]
  },
  {
   "cell_type": "code",
   "execution_count": 15,
   "metadata": {},
   "outputs": [
    {
     "data": {
      "text/plain": [
       "site_category\n",
       "5378d028    11\n",
       "9ccfa2ea     5\n",
       "a818d37a    81\n",
       "bcf865d9    16\n",
       "c706e647     1\n",
       "da34532e     1\n",
       "e787de0e    28\n",
       "Name: click, dtype: int64"
      ]
     },
     "execution_count": 15,
     "metadata": {},
     "output_type": "execute_result"
    }
   ],
   "source": [
    "category = site_category.mean()[site_category.mean()==0.0]\n",
    "site_category.size()[category.index]"
   ]
  },
  {
   "cell_type": "markdown",
   "metadata": {},
   "source": [
    "Il est pratique visualiser les deux colonnes conjointement :"
   ]
  },
  {
   "cell_type": "code",
   "execution_count": 16,
   "metadata": {},
   "outputs": [
    {
     "data": {
      "text/html": [
       "<div>\n",
       "<style scoped>\n",
       "    .dataframe tbody tr th:only-of-type {\n",
       "        vertical-align: middle;\n",
       "    }\n",
       "\n",
       "    .dataframe tbody tr th {\n",
       "        vertical-align: top;\n",
       "    }\n",
       "\n",
       "    .dataframe thead th {\n",
       "        text-align: right;\n",
       "    }\n",
       "</style>\n",
       "<table border=\"1\" class=\"dataframe\">\n",
       "  <thead>\n",
       "    <tr style=\"text-align: right;\">\n",
       "      <th></th>\n",
       "      <th>mean</th>\n",
       "      <th>count</th>\n",
       "    </tr>\n",
       "    <tr>\n",
       "      <th>C15</th>\n",
       "      <th></th>\n",
       "      <th></th>\n",
       "    </tr>\n",
       "  </thead>\n",
       "  <tbody>\n",
       "    <tr>\n",
       "      <th>320</th>\n",
       "      <td>0.158767</td>\n",
       "      <td>933088.0</td>\n",
       "    </tr>\n",
       "    <tr>\n",
       "      <th>300</th>\n",
       "      <td>0.360537</td>\n",
       "      <td>57492.0</td>\n",
       "    </tr>\n",
       "    <tr>\n",
       "      <th>216</th>\n",
       "      <td>0.129612</td>\n",
       "      <td>7345.0</td>\n",
       "    </tr>\n",
       "    <tr>\n",
       "      <th>728</th>\n",
       "      <td>0.054144</td>\n",
       "      <td>1810.0</td>\n",
       "    </tr>\n",
       "    <tr>\n",
       "      <th>120</th>\n",
       "      <td>0.033708</td>\n",
       "      <td>89.0</td>\n",
       "    </tr>\n",
       "    <tr>\n",
       "      <th>1024</th>\n",
       "      <td>0.166667</td>\n",
       "      <td>72.0</td>\n",
       "    </tr>\n",
       "    <tr>\n",
       "      <th>480</th>\n",
       "      <td>0.285714</td>\n",
       "      <td>56.0</td>\n",
       "    </tr>\n",
       "    <tr>\n",
       "      <th>768</th>\n",
       "      <td>0.375000</td>\n",
       "      <td>48.0</td>\n",
       "    </tr>\n",
       "  </tbody>\n",
       "</table>\n",
       "</div>"
      ],
      "text/plain": [
       "          mean     count\n",
       "C15                     \n",
       "320   0.158767  933088.0\n",
       "300   0.360537   57492.0\n",
       "216   0.129612    7345.0\n",
       "728   0.054144    1810.0\n",
       "120   0.033708      89.0\n",
       "1024  0.166667      72.0\n",
       "480   0.285714      56.0\n",
       "768   0.375000      48.0"
      ]
     },
     "execution_count": 16,
     "metadata": {},
     "output_type": "execute_result"
    }
   ],
   "source": [
    "col = 'C15'\n",
    "a = pd.DataFrame([df.groupby(col)['click'].mean(),df.groupby(col)['click'].count()]).transpose()\n",
    "a.columns = ['mean', 'count']\n",
    "a.sort_values(by='count',ascending=False)"
   ]
  },
  {
   "cell_type": "code",
   "execution_count": 17,
   "metadata": {},
   "outputs": [
    {
     "data": {
      "text/html": [
       "<div>\n",
       "<style scoped>\n",
       "    .dataframe tbody tr th:only-of-type {\n",
       "        vertical-align: middle;\n",
       "    }\n",
       "\n",
       "    .dataframe tbody tr th {\n",
       "        vertical-align: top;\n",
       "    }\n",
       "\n",
       "    .dataframe thead th {\n",
       "        text-align: right;\n",
       "    }\n",
       "</style>\n",
       "<table border=\"1\" class=\"dataframe\">\n",
       "  <thead>\n",
       "    <tr style=\"text-align: right;\">\n",
       "      <th></th>\n",
       "      <th>mean</th>\n",
       "      <th>count</th>\n",
       "    </tr>\n",
       "    <tr>\n",
       "      <th>site_category</th>\n",
       "      <th></th>\n",
       "      <th></th>\n",
       "    </tr>\n",
       "  </thead>\n",
       "  <tbody>\n",
       "    <tr>\n",
       "      <th>50e219e0</th>\n",
       "      <td>0.128597</td>\n",
       "      <td>408921.0</td>\n",
       "    </tr>\n",
       "    <tr>\n",
       "      <th>f028772b</th>\n",
       "      <td>0.179719</td>\n",
       "      <td>313339.0</td>\n",
       "    </tr>\n",
       "    <tr>\n",
       "      <th>28905ebd</th>\n",
       "      <td>0.208076</td>\n",
       "      <td>182020.0</td>\n",
       "    </tr>\n",
       "    <tr>\n",
       "      <th>3e814130</th>\n",
       "      <td>0.284245</td>\n",
       "      <td>75667.0</td>\n",
       "    </tr>\n",
       "    <tr>\n",
       "      <th>f66779e6</th>\n",
       "      <td>0.034564</td>\n",
       "      <td>6365.0</td>\n",
       "    </tr>\n",
       "    <tr>\n",
       "      <th>75fa27f6</th>\n",
       "      <td>0.111305</td>\n",
       "      <td>4007.0</td>\n",
       "    </tr>\n",
       "    <tr>\n",
       "      <th>335d28a8</th>\n",
       "      <td>0.089824</td>\n",
       "      <td>3351.0</td>\n",
       "    </tr>\n",
       "    <tr>\n",
       "      <th>76b2941d</th>\n",
       "      <td>0.035756</td>\n",
       "      <td>2573.0</td>\n",
       "    </tr>\n",
       "    <tr>\n",
       "      <th>c0dd3be3</th>\n",
       "      <td>0.128655</td>\n",
       "      <td>1026.0</td>\n",
       "    </tr>\n",
       "    <tr>\n",
       "      <th>72722551</th>\n",
       "      <td>0.059172</td>\n",
       "      <td>676.0</td>\n",
       "    </tr>\n",
       "    <tr>\n",
       "      <th>dedf689d</th>\n",
       "      <td>0.530449</td>\n",
       "      <td>624.0</td>\n",
       "    </tr>\n",
       "    <tr>\n",
       "      <th>70fb0e29</th>\n",
       "      <td>0.144737</td>\n",
       "      <td>608.0</td>\n",
       "    </tr>\n",
       "    <tr>\n",
       "      <th>0569f928</th>\n",
       "      <td>0.053613</td>\n",
       "      <td>429.0</td>\n",
       "    </tr>\n",
       "    <tr>\n",
       "      <th>8fd0aea4</th>\n",
       "      <td>0.015873</td>\n",
       "      <td>189.0</td>\n",
       "    </tr>\n",
       "    <tr>\n",
       "      <th>a818d37a</th>\n",
       "      <td>0.000000</td>\n",
       "      <td>81.0</td>\n",
       "    </tr>\n",
       "    <tr>\n",
       "      <th>42a36e14</th>\n",
       "      <td>0.225806</td>\n",
       "      <td>62.0</td>\n",
       "    </tr>\n",
       "    <tr>\n",
       "      <th>e787de0e</th>\n",
       "      <td>0.000000</td>\n",
       "      <td>28.0</td>\n",
       "    </tr>\n",
       "    <tr>\n",
       "      <th>bcf865d9</th>\n",
       "      <td>0.000000</td>\n",
       "      <td>16.0</td>\n",
       "    </tr>\n",
       "    <tr>\n",
       "      <th>5378d028</th>\n",
       "      <td>0.000000</td>\n",
       "      <td>11.0</td>\n",
       "    </tr>\n",
       "    <tr>\n",
       "      <th>9ccfa2ea</th>\n",
       "      <td>0.000000</td>\n",
       "      <td>5.0</td>\n",
       "    </tr>\n",
       "    <tr>\n",
       "      <th>c706e647</th>\n",
       "      <td>0.000000</td>\n",
       "      <td>1.0</td>\n",
       "    </tr>\n",
       "    <tr>\n",
       "      <th>da34532e</th>\n",
       "      <td>0.000000</td>\n",
       "      <td>1.0</td>\n",
       "    </tr>\n",
       "  </tbody>\n",
       "</table>\n",
       "</div>"
      ],
      "text/plain": [
       "                   mean     count\n",
       "site_category                    \n",
       "50e219e0       0.128597  408921.0\n",
       "f028772b       0.179719  313339.0\n",
       "28905ebd       0.208076  182020.0\n",
       "3e814130       0.284245   75667.0\n",
       "f66779e6       0.034564    6365.0\n",
       "75fa27f6       0.111305    4007.0\n",
       "335d28a8       0.089824    3351.0\n",
       "76b2941d       0.035756    2573.0\n",
       "c0dd3be3       0.128655    1026.0\n",
       "72722551       0.059172     676.0\n",
       "dedf689d       0.530449     624.0\n",
       "70fb0e29       0.144737     608.0\n",
       "0569f928       0.053613     429.0\n",
       "8fd0aea4       0.015873     189.0\n",
       "a818d37a       0.000000      81.0\n",
       "42a36e14       0.225806      62.0\n",
       "e787de0e       0.000000      28.0\n",
       "bcf865d9       0.000000      16.0\n",
       "5378d028       0.000000      11.0\n",
       "9ccfa2ea       0.000000       5.0\n",
       "c706e647       0.000000       1.0\n",
       "da34532e       0.000000       1.0"
      ]
     },
     "execution_count": 17,
     "metadata": {},
     "output_type": "execute_result"
    }
   ],
   "source": [
    "col = 'site_category'\n",
    "a = pd.DataFrame([df.groupby(col)['click'].mean(),df.groupby(col)['click'].count()]).transpose()\n",
    "a.columns = ['mean', 'count']\n",
    "a.sort_values(by='count',ascending=False)"
   ]
  },
  {
   "cell_type": "markdown",
   "metadata": {},
   "source": [
    "<font color=\"red\">\n",
    "Diviser le jeu de données en un train et un test set</font>"
   ]
  },
  {
   "cell_type": "code",
   "execution_count": 18,
   "metadata": {
    "collapsed": true
   },
   "outputs": [],
   "source": [
    "from sklearn.model_selection import train_test_split\n",
    "Xtrain, Xtest, ytrain, ytest = train_test_split(df.drop(columns=['click']), df['click'], test_size=0.1,random_state=42)"
   ]
  },
  {
   "cell_type": "markdown",
   "metadata": {},
   "source": [
    "# Premier travail sur un nombre réduit de features\n",
    "<p>\n",
    "<font color=\"red\">\n",
    "Dans une nouvelle dataframe X1, extraire les colonnes : 'hour', 'weekday', 'C1', 'banner_pos', 'site_category', 'app_category', 'device_type', 'device_conn_type', 'C15', 'C16', 'C18', 'C21'.\n",
    "</font>"
   ]
  },
  {
   "cell_type": "code",
   "execution_count": 19,
   "metadata": {
    "collapsed": true
   },
   "outputs": [],
   "source": [
    "some_columns = ['hour', 'weekday', 'C1', 'banner_pos', 'site_category', 'app_category', \n",
    "                'device_type', 'device_conn_type', 'C15', 'C16', 'C18', 'C21']\n",
    "X1 = df[some_columns]"
   ]
  },
  {
   "cell_type": "markdown",
   "metadata": {},
   "source": [
    "<font color=\"red\"> Créer deux nouvelles matrices Xtrain_oh et Xtest_oh contenant les données de train et de test, transformées en dummies à l'aide du onehot-encoder de sklearn.\n",
    "\n",
    "Quel est le type de Xtrain_oh ?\n",
    "</font>"
   ]
  },
  {
   "cell_type": "code",
   "execution_count": 20,
   "metadata": {
    "collapsed": true
   },
   "outputs": [],
   "source": [
    "from sklearn.preprocessing import OneHotEncoder, LabelEncoder\n",
    "le = LabelEncoder()\n",
    "enc = OneHotEncoder()\n",
    "site_category = X1[['site_category']].apply(le.fit_transform)\n",
    "site_category = pd.DataFrame(enc.fit_transform(site_category).toarray(), columns=le.classes_)\n",
    "app_category = X1[['app_category']].apply(le.fit_transform)\n",
    "app_category = pd.DataFrame(enc.fit_transform(app_category).toarray(), columns=le.classes_)\n",
    "X = pd.concat([X1.drop(['site_category', 'app_category'], 1), site_category, app_category], axis=1)"
   ]
  },
  {
   "cell_type": "code",
   "execution_count": 21,
   "metadata": {
    "collapsed": true
   },
   "outputs": [],
   "source": [
    "Xtrain_oh, Xtest_oh, ytrain_oh, ytest_oh = train_test_split(X,df['click'],test_size=0.1,random_state=42)"
   ]
  },
  {
   "cell_type": "code",
   "execution_count": 22,
   "metadata": {},
   "outputs": [
    {
     "data": {
      "text/plain": [
       "pandas.core.frame.DataFrame"
      ]
     },
     "execution_count": 22,
     "metadata": {},
     "output_type": "execute_result"
    }
   ],
   "source": [
    "type(Xtrain_oh)"
   ]
  },
  {
   "cell_type": "markdown",
   "metadata": {},
   "source": [
    "<font color=\"red\">\n",
    "Quel est le nouveau nombre de colonnes ?</font>"
   ]
  },
  {
   "cell_type": "code",
   "execution_count": 23,
   "metadata": {},
   "outputs": [
    {
     "data": {
      "text/plain": [
       "58"
      ]
     },
     "execution_count": 23,
     "metadata": {},
     "output_type": "execute_result"
    }
   ],
   "source": [
    "Xtrain_oh.shape[1]"
   ]
  },
  {
   "cell_type": "markdown",
   "metadata": {},
   "source": [
    "There are 58 columns in the new dataframe"
   ]
  },
  {
   "cell_type": "markdown",
   "metadata": {},
   "source": [
    "<font color=\"red\">\n",
    "Visualiser la première ligne de la matrice de design obtenue (la convertir en numpy.array avec la méthode .toarray())</font>"
   ]
  },
  {
   "cell_type": "code",
   "execution_count": 24,
   "metadata": {},
   "outputs": [
    {
     "data": {
      "text/plain": [
       "array([2.100e+01, 3.000e+00, 1.005e+03, 1.000e+00, 1.000e+00, 2.000e+00,\n",
       "       3.200e+02, 5.000e+01, 2.000e+00, 2.300e+01, 0.000e+00, 0.000e+00,\n",
       "       0.000e+00, 0.000e+00, 0.000e+00, 0.000e+00, 0.000e+00, 0.000e+00,\n",
       "       0.000e+00, 0.000e+00, 0.000e+00, 0.000e+00, 0.000e+00, 0.000e+00,\n",
       "       0.000e+00, 0.000e+00, 0.000e+00, 0.000e+00, 0.000e+00, 0.000e+00,\n",
       "       1.000e+00, 0.000e+00, 1.000e+00, 0.000e+00, 0.000e+00, 0.000e+00,\n",
       "       0.000e+00, 0.000e+00, 0.000e+00, 0.000e+00, 0.000e+00, 0.000e+00,\n",
       "       0.000e+00, 0.000e+00, 0.000e+00, 0.000e+00, 0.000e+00, 0.000e+00,\n",
       "       0.000e+00, 0.000e+00, 0.000e+00, 0.000e+00, 0.000e+00, 0.000e+00,\n",
       "       0.000e+00, 0.000e+00, 0.000e+00, 0.000e+00])"
      ]
     },
     "execution_count": 24,
     "metadata": {},
     "output_type": "execute_result"
    }
   ],
   "source": [
    "np.array(Xtrain_oh)[0]"
   ]
  },
  {
   "cell_type": "markdown",
   "metadata": {
    "collapsed": true
   },
   "source": [
    "<font color=\"red\">\n",
    "Fitter un modèle de régression logistique aux données d'apprentissage.</font>"
   ]
  },
  {
   "cell_type": "markdown",
   "metadata": {},
   "source": [
    "### Logistic Regression"
   ]
  },
  {
   "cell_type": "code",
   "execution_count": 25,
   "metadata": {},
   "outputs": [
    {
     "data": {
      "text/plain": [
       "LogisticRegression(C=1.0, class_weight=None, dual=False, fit_intercept=True,\n",
       "          intercept_scaling=1, max_iter=100, multi_class='warn',\n",
       "          n_jobs=None, penalty='l2', random_state=None, solver='warn',\n",
       "          tol=0.0001, verbose=0, warm_start=False)"
      ]
     },
     "execution_count": 25,
     "metadata": {},
     "output_type": "execute_result"
    }
   ],
   "source": [
    "from sklearn.linear_model import LogisticRegression\n",
    "classifier = LogisticRegression()\n",
    "classifier.fit(Xtrain_oh, ytrain_oh)"
   ]
  },
  {
   "cell_type": "markdown",
   "metadata": {},
   "source": [
    "<font color=\"red\">\n",
    "À l'aide des méthodes predict et predict_proba, afficher les décisions dures et les décisions douces obtenues sur les données de test.</font>"
   ]
  },
  {
   "cell_type": "code",
   "execution_count": 26,
   "metadata": {},
   "outputs": [
    {
     "name": "stdout",
     "output_type": "stream",
     "text": [
      "[0 0 0 ... 0 0 0]\n",
      "[0.04381742 0.17639956 0.22814061 ... 0.41934316 0.22433483 0.25968078]\n"
     ]
    }
   ],
   "source": [
    "hard = classifier.predict(Xtest_oh)\n",
    "soft = classifier.predict_proba(Xtest_oh)[:,1]\n",
    "print(hard)\n",
    "print(soft)"
   ]
  },
  {
   "cell_type": "markdown",
   "metadata": {},
   "source": [
    "<font color=\"red\">\n",
    "Evaluer la probabilité d'erreur et commenter (on pourra comparer cette erreur avec celle d'un classifieur identiquement nul).</font>"
   ]
  },
  {
   "cell_type": "code",
   "execution_count": 27,
   "metadata": {},
   "outputs": [
    {
     "data": {
      "text/plain": [
       "array([[82851,    76],\n",
       "       [17045,    28]], dtype=int64)"
      ]
     },
     "execution_count": 27,
     "metadata": {},
     "output_type": "execute_result"
    }
   ],
   "source": [
    "from sklearn.metrics import confusion_matrix\n",
    "confusion_matrix_ = confusion_matrix(ytest_oh, hard)\n",
    "confusion_matrix_"
   ]
  },
  {
   "cell_type": "code",
   "execution_count": 28,
   "metadata": {},
   "outputs": [
    {
     "name": "stdout",
     "output_type": "stream",
     "text": [
      "0.17045 0.00076\n"
     ]
    }
   ],
   "source": [
    "fp = confusion_matrix_[1][0]\n",
    "fn = confusion_matrix_[0][1]\n",
    "print(fp/confusion_matrix_.sum(), fn/confusion_matrix_.sum())"
   ]
  },
  {
   "cell_type": "markdown",
   "metadata": {},
   "source": [
    "The false positive rate is 0.17, the false negative rate is 0.00076. The frequent of positive in the dataset is 0.169, so this regression is falsly predict many '0' as '1'"
   ]
  },
  {
   "cell_type": "markdown",
   "metadata": {},
   "source": [
    "<font color=\"red\">\n",
    "Afficher la courbe ROC et l'aire sous la courbe ROC. Calculer la log-loss</font>"
   ]
  },
  {
   "cell_type": "code",
   "execution_count": 29,
   "metadata": {},
   "outputs": [
    {
     "data": {
      "image/png": "[encoded data removed]",
      "text/plain": [
       "<Figure size 432x288 with 1 Axes>"
      ]
     },
     "metadata": {
      "needs_background": "light"
     },
     "output_type": "display_data"
    }
   ],
   "source": [
    "from sklearn.metrics import roc_curve, roc_auc_score, log_loss\n",
    "pfa, power, _ = roc_curve(ytest_oh, soft)\n",
    "plt.plot(pfa, power)\n",
    "plt.grid()"
   ]
  },
  {
   "cell_type": "code",
   "execution_count": 30,
   "metadata": {},
   "outputs": [
    {
     "data": {
      "text/plain": [
       "0.6257764241325963"
      ]
     },
     "execution_count": 30,
     "metadata": {},
     "output_type": "execute_result"
    }
   ],
   "source": [
    "roc_auc_score(ytest_oh, soft)"
   ]
  },
  {
   "cell_type": "code",
   "execution_count": 31,
   "metadata": {},
   "outputs": [
    {
     "data": {
      "text/plain": [
       "0.4397498662123666"
      ]
     },
     "execution_count": 31,
     "metadata": {},
     "output_type": "execute_result"
    }
   ],
   "source": [
    "log_loss(ytest_oh, soft)"
   ]
  },
  {
   "cell_type": "markdown",
   "metadata": {},
   "source": [
    "### Random Forest"
   ]
  },
  {
   "cell_type": "markdown",
   "metadata": {},
   "source": [
    "Nous renvoyons à l'aide sklearn http://scikit-learn.org/stable/modules/generated/sklearn.ensemble.RandomForestClassifier.html.\n",
    "Dans un premier temps, nous proposons de fitter le RFClassifier par défaut de sklearn. \n",
    "Dans la suite, nous allons chercher à optimiser ses hyperparamètres afin de gagner en performance.\n",
    " \n",
    "<font color=\"red\">\n",
    "Entrainer un RF-classifier sur le modèle restreint. Utiliser dans un premier temps des arbres profonds en fixant le nombre d'exemples par feuilles à 1.\n",
    "    \n",
    "On pourra fixer le paramètres n_jobs à -1 pour paralléliser la construction de la forêt. On évaluera également avec %%time le temps de calcul.\n",
    "</font> "
   ]
  },
  {
   "cell_type": "code",
   "execution_count": 32,
   "metadata": {},
   "outputs": [
    {
     "name": "stdout",
     "output_type": "stream",
     "text": [
      "Wall time: 12.6 s\n"
     ]
    }
   ],
   "source": [
    "%%time\n",
    "from sklearn.ensemble import RandomForestClassifier\n",
    "RFClassifier = RandomForestClassifier(min_samples_leaf=1, n_jobs=-1)\n",
    "RFClassifier.fit(Xtrain_oh, ytrain_oh)"
   ]
  },
  {
   "cell_type": "markdown",
   "metadata": {},
   "source": [
    "<font color=\"red\">Afficher les hyperparamètres utilisés par votre random forest (utiliser \"print\").</font>"
   ]
  },
  {
   "cell_type": "code",
   "execution_count": 33,
   "metadata": {},
   "outputs": [
    {
     "name": "stdout",
     "output_type": "stream",
     "text": [
      "RandomForestClassifier(bootstrap=True, class_weight=None, criterion='gini',\n",
      "            max_depth=None, max_features='auto', max_leaf_nodes=None,\n",
      "            min_impurity_decrease=0.0, min_impurity_split=None,\n",
      "            min_samples_leaf=1, min_samples_split=2,\n",
      "            min_weight_fraction_leaf=0.0, n_estimators=10, n_jobs=-1,\n",
      "            oob_score=False, random_state=None, verbose=0,\n",
      "            warm_start=False)\n"
     ]
    }
   ],
   "source": [
    "print(RFClassifier)"
   ]
  },
  {
   "cell_type": "markdown",
   "metadata": {},
   "source": [
    "<font color=\"red\">Calculer la valeur de l'aire sous la courbe ROC et la log-loss.</font>"
   ]
  },
  {
   "cell_type": "code",
   "execution_count": 34,
   "metadata": {
    "collapsed": true
   },
   "outputs": [],
   "source": [
    "hard = RFClassifier.predict(Xtest_oh)\n",
    "soft = RFClassifier.predict_proba(Xtest_oh)[:,1]"
   ]
  },
  {
   "cell_type": "code",
   "execution_count": 35,
   "metadata": {},
   "outputs": [
    {
     "data": {
      "image/png": "[encoded data removed]",
      "text/plain": [
       "<Figure size 432x288 with 1 Axes>"
      ]
     },
     "metadata": {
      "needs_background": "light"
     },
     "output_type": "display_data"
    }
   ],
   "source": [
    "pfa, power, _ = roc_curve(ytest_oh, soft)\n",
    "plt.plot(pfa,power)\n",
    "plt.grid()"
   ]
  },
  {
   "cell_type": "code",
   "execution_count": 36,
   "metadata": {},
   "outputs": [
    {
     "data": {
      "text/plain": [
       "0.6400556187427918"
      ]
     },
     "execution_count": 36,
     "metadata": {},
     "output_type": "execute_result"
    }
   ],
   "source": [
    "log_loss(ytest_oh, soft)"
   ]
  },
  {
   "cell_type": "markdown",
   "metadata": {},
   "source": [
    "<font color=\"red\">Entrainer un RF-classifieur en limitant cette fois la profondeur des arbres. Par exemple, on pourra fixer le nombre minimal d'exemples par feuille à 20.\n",
    "\n",
    "Afficher l'AUC et la log-loss</font>"
   ]
  },
  {
   "cell_type": "code",
   "execution_count": 37,
   "metadata": {},
   "outputs": [
    {
     "data": {
      "text/plain": [
       "RandomForestClassifier(bootstrap=True, class_weight=None, criterion='gini',\n",
       "            max_depth=None, max_features='auto', max_leaf_nodes=None,\n",
       "            min_impurity_decrease=0.0, min_impurity_split=None,\n",
       "            min_samples_leaf=20, min_samples_split=2,\n",
       "            min_weight_fraction_leaf=0.0, n_estimators=10, n_jobs=-1,\n",
       "            oob_score=False, random_state=None, verbose=0,\n",
       "            warm_start=False)"
      ]
     },
     "execution_count": 37,
     "metadata": {},
     "output_type": "execute_result"
    }
   ],
   "source": [
    "RFClassifier_ = RandomForestClassifier(min_samples_leaf=20, n_jobs=-1)\n",
    "RFClassifier_.fit(Xtrain_oh, ytrain_oh)"
   ]
  },
  {
   "cell_type": "code",
   "execution_count": 38,
   "metadata": {},
   "outputs": [
    {
     "data": {
      "text/plain": [
       "0.6940722198833889"
      ]
     },
     "execution_count": 38,
     "metadata": {},
     "output_type": "execute_result"
    }
   ],
   "source": [
    "hard = RFClassifier_.predict(Xtest_oh)\n",
    "soft = RFClassifier_.predict_proba(Xtest_oh)[:,1]\n",
    "roc_auc_score(ytest_oh, soft)"
   ]
  },
  {
   "cell_type": "code",
   "execution_count": 39,
   "metadata": {},
   "outputs": [
    {
     "data": {
      "text/plain": [
       "0.421055513482563"
      ]
     },
     "execution_count": 39,
     "metadata": {},
     "output_type": "execute_result"
    }
   ],
   "source": [
    "log_loss(ytest_oh, soft)"
   ]
  },
  {
   "cell_type": "markdown",
   "metadata": {},
   "source": [
    "<font color=\"red\">Expliquer l'influence de la profondeur des arbres.\n",
    "<br>\n",
    "Tracer les courbes ROC pour chaque modèle.</font>"
   ]
  },
  {
   "cell_type": "code",
   "execution_count": 40,
   "metadata": {},
   "outputs": [
    {
     "data": {
      "text/plain": [
       "<matplotlib.legend.Legend at 0x26e02d49a58>"
      ]
     },
     "execution_count": 40,
     "metadata": {},
     "output_type": "execute_result"
    },
    {
     "data": {
      "image/png": "[encoded data removed]",
      "text/plain": [
       "<Figure size 432x288 with 1 Axes>"
      ]
     },
     "metadata": {
      "needs_background": "light"
     },
     "output_type": "display_data"
    }
   ],
   "source": [
    "pfa_, power_, _ = roc_curve(ytest_oh, soft)\n",
    "plt.plot(pfa, power, label='min_samples_leaf=1')\n",
    "plt.plot(pfa_, power_, label='min_samples_leaf=20')\n",
    "plt.grid()\n",
    "plt.legend()"
   ]
  },
  {
   "cell_type": "markdown",
   "metadata": {},
   "source": [
    "Reduce the depth of the tree can reduce the amount of calculation, and can prevent overfitting"
   ]
  },
  {
   "cell_type": "markdown",
   "metadata": {},
   "source": [
    "#### Choix des hyper-paramètres\n",
    "Nous vous proposons d'utiliser la librairie hyperopt (https://conference.scipy.org/proceedings/scipy2013/pdfs/bergstra_hyperopt.pdf) pour optimiser les hyper-paramètres de Random Forest. Vous avez aussi la possibilité de lancer, par exemple, une recherche exhaustive sur une grille à l'aide de la méthode sklearn sklearn.model_selection.GridSearchCV. \n",
    "<font color=\"red\">\n",
    "- Pour des raisons de temps de calcul, nous n'optimiserons ici que le paramètre \"min_samples_leaf\". Sur quels autres paramètres aurait-on pu lancer l'optimisation?\n",
    "<br>\n",
    "- Compléter le code ci-dessous afin d'évaluer le meilleur hyperparamètre en termes de log-loss.\n",
    "</font>"
   ]
  },
  {
   "cell_type": "code",
   "execution_count": 41,
   "metadata": {
    "scrolled": true
   },
   "outputs": [
    {
     "name": "stdout",
     "output_type": "stream",
     "text": [
      " iteration: 1 \t {'min_samples_leaf': 28.0}  >>> LOSS: 0.5718009606403202\n",
      " iteration: 2 \t {'min_samples_leaf': 47.0}  >>> LOSS: 0.6949648818774252\n",
      " iteration: 3 \t {'min_samples_leaf': 46.0}  >>> LOSS: 0.6875679246994368\n",
      " iteration: 4 \t {'min_samples_leaf': 33.0}  >>> LOSS: 0.6482381128258222\n",
      " iteration: 5 \t {'min_samples_leaf': 21.0}  >>> LOSS: 0.43298664972159284\n",
      " iteration: 6 \t {'min_samples_leaf': 8.0}  >>> LOSS: 0.42869905975366696\n",
      " iteration: 7 \t {'min_samples_leaf': 32.0}  >>> LOSS: 0.610209991481463\n",
      " iteration: 8 \t {'min_samples_leaf': 38.0}  >>> LOSS: 0.6824531913408591\n",
      " iteration: 9 \t {'min_samples_leaf': 48.0}  >>> LOSS: 0.6955121970556212\n",
      " iteration: 10 \t {'min_samples_leaf': 48.0}  >>> LOSS: 0.6930370366846293\n",
      "Wall time: 1min 26s\n"
     ]
    }
   ],
   "source": [
    "%%time\n",
    "import hyperopt\n",
    "from hyperopt import fmin, tpe, rand, hp, Trials, STATUS_OK\n",
    "\n",
    "space = {\n",
    "    #'test_size': hp.uniform('test_size', .1, .9),\n",
    "    'min_samples_leaf': hp.quniform('min_samples_leaf', 2, 50, 1),\n",
    "}\n",
    "\n",
    "df_result_hyperopt = pd.DataFrame(\n",
    "    columns=['loss', 'estimators'] + list(space.keys()))\n",
    "\n",
    "i = 0\n",
    "Xt, Xv, yt, yv = \\\n",
    "train_test_split(Xtrain_oh, ytrain, test_size=.3, random_state=42)\n",
    "\n",
    "def objective(space):\n",
    "    global i\n",
    "    i += 1\n",
    "    clf = RandomForestClassifier(max_depth=space['min_samples_leaf'], n_jobs=-1)\n",
    "    clf.fit(Xt, yt)\n",
    "    loss = log_loss(yv, clf.predict_proba(Xv)[:,1])\n",
    "    print(\"\\r iteration: {} \\t {}  >>> LOSS: {}\".format(i, space, loss))\n",
    "    df_result_hyperopt.loc[i, ['loss',  'estimators'] + list(space.keys())] = \\\n",
    "        [loss,  clf] + list(space.values())\n",
    "    return {'loss': loss, 'status': STATUS_OK}\n",
    "\n",
    "trials = Trials()\n",
    "\n",
    "best = fmin(fn=objective, space=space, algo=tpe.suggest,\n",
    "            max_evals=10, trials=trials)\n"
   ]
  },
  {
   "cell_type": "markdown",
   "metadata": {},
   "source": [
    "<font color=\"red\">Afficher la courbe des log-loss obtenues en fonction de l'hyper-paramètre. A-t-on exploré tous les points de la grille ?</font>"
   ]
  },
  {
   "cell_type": "code",
   "execution_count": 42,
   "metadata": {},
   "outputs": [
    {
     "data": {
      "text/plain": [
       "[<matplotlib.lines.Line2D at 0x26e04b02208>]"
      ]
     },
     "execution_count": 42,
     "metadata": {},
     "output_type": "execute_result"
    },
    {
     "data": {
      "image/png": "[encoded data removed]",
      "text/plain": [
       "<Figure size 432x288 with 1 Axes>"
      ]
     },
     "metadata": {
      "needs_background": "light"
     },
     "output_type": "display_data"
    }
   ],
   "source": [
    "df_log_loss = df_result_hyperopt.sort_values('min_samples_leaf')\n",
    "plt.plot(df_log_loss['min_samples_leaf'], df_log_loss['loss'])"
   ]
  },
  {
   "cell_type": "markdown",
   "metadata": {},
   "source": [
    "Facultatif : Si le temps le permet, on pourra comparer hyperopt avec la méthode GridSearchCV de sklearn (http://scikit-learn.org/stable/modules/generated/sklearn.model_selection.GridSearchCV.html#sklearn.model_selection.GridSearchCV)"
   ]
  },
  {
   "cell_type": "code",
   "execution_count": 43,
   "metadata": {
    "collapsed": true
   },
   "outputs": [],
   "source": [
    "#%%time\n",
    "#from sklearn.model_selection import GridSearchCV\n",
    "#parameters = {'min_samples_leaf': np.arange(2, 50)}\n",
    "#clf = RandomForestClassifier(n_jobs=-1)\n",
    "#rfc_gs = GridSearchCV(clf, parameters)\n",
    "#rfc_gs.fit(Xt, yt)"
   ]
  },
  {
   "cell_type": "markdown",
   "metadata": {},
   "source": [
    "#### Courbe Lift"
   ]
  },
  {
   "cell_type": "markdown",
   "metadata": {},
   "source": [
    "Une autre façon de visualiser le résultat de la classification est le lift.  \n",
    "Chaque seuil possible permet d'isoler un segment de la population testée (ceux qui ont une probabilité de survie supérieure au seuil). Le lift de ce segment est le rapport entre le taux de survie calculé sur ce segment, et le taux de survie global."
   ]
  },
  {
   "cell_type": "markdown",
   "metadata": {},
   "source": [
    "<font color=\"red\">\n",
    "Importer la fonction plot_lift de utils.py, et afficher la courbe de lift.  \n",
    "Quel est le lift du premier quart de la population identifié par le test ?</font>"
   ]
  },
  {
   "cell_type": "code",
   "execution_count": 44,
   "metadata": {},
   "outputs": [
    {
     "data": {
      "image/png": "[encoded data removed]",
      "text/plain": [
       "<Figure size 432x288 with 1 Axes>"
      ]
     },
     "metadata": {
      "needs_background": "light"
     },
     "output_type": "display_data"
    }
   ],
   "source": [
    "from utils import plotlift\n",
    "plotlift(ytest_oh, soft)"
   ]
  },
  {
   "cell_type": "markdown",
   "metadata": {},
   "source": [
    "On obtient un lift égal à un peu moins de deux pour environ 20% de la population (~1.75). C'est à dire qu'on a identifié un segment de la population pour lequel la probabilité de clic est (environ) deux fois supérieure à la population globale."
   ]
  },
  {
   "cell_type": "markdown",
   "metadata": {},
   "source": [
    "# Modèle complet\n",
    "On considère l'exemple de la colonne 'site_id'\n",
    "<br>\n",
    "<font color=\"red\">\n",
    "- Calculer pour chaque modalité, le nombre d'occurrence dans la base de données et la moyenne des clics pour cette modalité.  \n",
    "- Avec sns.jointplot, représenter l'ensemble des points (count,mean) de chaque modalité.</font>\n"
   ]
  },
  {
   "cell_type": "code",
   "execution_count": 45,
   "metadata": {},
   "outputs": [
    {
     "data": {
      "image/png": "[encoded data removed]",
      "text/plain": [
       "<Figure size 432x432 with 3 Axes>"
      ]
     },
     "metadata": {
      "needs_background": "light"
     },
     "output_type": "display_data"
    },
    {
     "data": {
      "image/png": "[encoded data removed]",
      "text/plain": [
       "<Figure size 432x432 with 3 Axes>"
      ]
     },
     "metadata": {
      "needs_background": "light"
     },
     "output_type": "display_data"
    }
   ],
   "source": [
    "col = 'site_id'\n",
    "a = pd.concat((df.groupby(col)['click'].mean(), df.groupby(col)['click'].count()), axis=1)\n",
    "a.columns = ['mean', 'n_val']\n",
    "sns.jointplot(a['n_val'], a['mean'],alpha=0.25);\n",
    "thres = 10000\n",
    "sns.jointplot(a[a['n_val']<thres]['n_val'], a[a['n_val']<thres]['mean'], alpha=0.25);"
   ]
  },
  {
   "cell_type": "markdown",
   "metadata": {},
   "source": [
    "Plusieurs sites ayant de fortes occurrences dans la base de donnée ont des fréquences de clics très différentes de la moyenne. Il est pertinent de conserver de la colonne 'site_id' au moins les modalités ayant le plus de count.  \n",
    "\n",
    "<font color=\"red\">\n",
    "Effectuer le même travail avec la colonne 'device_id'. Que remarquez vous ? A quoi pourrait correspondre le point isolé ?</font>"
   ]
  },
  {
   "cell_type": "code",
   "execution_count": 46,
   "metadata": {},
   "outputs": [
    {
     "data": {
      "image/png": "[encoded data removed]",
      "text/plain": [
       "<Figure size 432x432 with 3 Axes>"
      ]
     },
     "metadata": {
      "needs_background": "light"
     },
     "output_type": "display_data"
    },
    {
     "data": {
      "image/png": "[encoded data removed]",
      "text/plain": [
       "<Figure size 432x432 with 3 Axes>"
      ]
     },
     "metadata": {
      "needs_background": "light"
     },
     "output_type": "display_data"
    }
   ],
   "source": [
    "col = 'device_id'\n",
    "a = pd.concat((df.groupby(col)['click'].mean(), df.groupby(col)['click'].count()), axis=1)\n",
    "a.columns = ['mean', 'n_val']\n",
    "thres = 1000\n",
    "sns.jointplot(a['n_val'],a['mean'],alpha=0.25);\n",
    "sns.jointplot(a[a['n_val']<thres]['n_val'],a[a['n_val']<thres]['mean'],alpha=0.25);"
   ]
  },
  {
   "cell_type": "markdown",
   "metadata": {},
   "source": [
    "The distribution of n_val is concentrated"
   ]
  },
  {
   "cell_type": "markdown",
   "metadata": {},
   "source": [
    "<font color=\"red\">\n",
    "Dans la colonne df['device_id'], repérer la valeur V correspondant au plus grand nombre count. Créer une nouvelle colonne df['user'] définie de la manière suivante :</font>\n",
    "$$\n",
    "\\text{user} = \\left\\{\\begin{array}[h]{ll} \\text{device_ip + device_model} & \\text{si device_id = V}\\\\ \\text{device_id} & \\text{sinon.}\\end{array}\\right.\n",
    "$$"
   ]
  },
  {
   "cell_type": "code",
   "execution_count": 33,
   "metadata": {
    "collapsed": true
   },
   "outputs": [],
   "source": [
    "device_id = df.groupby(by='device_id').size()\n",
    "V = device_id.sort_values(ascending=False).index[0]\n",
    "df['user'] = df['device_id']*(df['device_id']!=V)+(df['device_ip']+df['device_model'])*(df['device_id']==V)"
   ]
  },
  {
   "cell_type": "markdown",
   "metadata": {},
   "source": [
    "<font color=\"red\">\n",
    "On pourra visualiser de même la similarité entre site_id et site_domain, et fusionner ces deux colonnes.</font>"
   ]
  },
  {
   "cell_type": "code",
   "execution_count": 34,
   "metadata": {
    "collapsed": true
   },
   "outputs": [],
   "source": [
    "site_id = df.groupby(by='site_id').size()\n",
    "V = site_id.sort_values(ascending=False).index[0]\n",
    "df['user_site'] = df['site_id']*(df['site_id']!=V)+(df['site_domain'])*(df['site_id']==V)"
   ]
  },
  {
   "cell_type": "markdown",
   "metadata": {},
   "source": [
    "<font color=\"red\">\n",
    "Effectuons à nouveau le partage train/test à partir de la dataframe df ainsi modifiée \n",
    "(test_size = 0.1, random_state = 100)\n",
    "</font>"
   ]
  },
  {
   "cell_type": "code",
   "execution_count": 35,
   "metadata": {
    "collapsed": true
   },
   "outputs": [],
   "source": [
    "from sklearn.model_selection import train_test_split\n",
    "some_columns = ['id', 'click', 'site_id', 'site_domain', 'device_id', 'device_ip', 'device_model']\n",
    "X_train, X_test, y_train, y_test = train_test_split(df.drop(columns=some_columns), df['click'], test_size = 0.1, random_state = 100)"
   ]
  },
  {
   "cell_type": "code",
   "execution_count": 50,
   "metadata": {
    "scrolled": true
   },
   "outputs": [
    {
     "data": {
      "text/plain": [
       "Index(['hour', 'C1', 'banner_pos', 'site_category', 'app_id', 'app_domain',\n",
       "       'app_category', 'device_type', 'device_conn_type', 'C14', 'C15', 'C16',\n",
       "       'C17', 'C18', 'C19', 'C20', 'C21', 'weekday', 'user', 'user_site'],\n",
       "      dtype='object')"
      ]
     },
     "execution_count": 50,
     "metadata": {},
     "output_type": "execute_result"
    }
   ],
   "source": [
    "X_train.columns"
   ]
  },
  {
   "cell_type": "markdown",
   "metadata": {},
   "source": [
    "<font color=\"red\">\n",
    "    Définir un OneHotEncoder.  \n",
    "Fitter transformer la base de train</font>"
   ]
  },
  {
   "cell_type": "code",
   "execution_count": 9,
   "metadata": {
    "collapsed": true
   },
   "outputs": [],
   "source": [
    "from sklearn.preprocessing import OneHotEncoder\n",
    "onehot = OneHotEncoder(handle_unknown='ignore')\n",
    "X_train_oh = onehot.fit_transform(X_train)"
   ]
  },
  {
   "cell_type": "markdown",
   "metadata": {},
   "source": [
    "<font color=\"red\">\n",
    "Transformer la base de test.  \n",
    "Si une erreur survient, analyser cette erreur et la résoudre en modifiant le paramètre \"handle_unknown\" du OneHotEncoder.\n",
    "</font>"
   ]
  },
  {
   "cell_type": "code",
   "execution_count": 10,
   "metadata": {
    "collapsed": true
   },
   "outputs": [],
   "source": [
    "X_test_oh = onehot.transform(X_test)"
   ]
  },
  {
   "cell_type": "markdown",
   "metadata": {},
   "source": [
    "<font color=\"red\">\n",
    "Quel est le nombre de features ?</font>"
   ]
  },
  {
   "cell_type": "code",
   "execution_count": 54,
   "metadata": {},
   "outputs": [
    {
     "data": {
      "text/plain": [
       "(900000, 710483)"
      ]
     },
     "execution_count": 54,
     "metadata": {},
     "output_type": "execute_result"
    }
   ],
   "source": [
    "X_train_oh.shape"
   ]
  },
  {
   "cell_type": "markdown",
   "metadata": {
    "collapsed": true
   },
   "source": [
    "There are 710483 features."
   ]
  },
  {
   "cell_type": "markdown",
   "metadata": {},
   "source": [
    "Le vecteur \"n_ones\" ci-dessous fournit le nombre de \"un\" dans chaque colonne de la matrice de train Xtrain_oh.\n",
    "<br>\n",
    "<font color=\"red\">\n",
    "Combien de modalités ont elles été vues plus de 100 fois ? \n",
    "</font>"
   ]
  },
  {
   "cell_type": "code",
   "execution_count": 58,
   "metadata": {},
   "outputs": [
    {
     "data": {
      "text/plain": [
       "1981"
      ]
     },
     "execution_count": 58,
     "metadata": {},
     "output_type": "execute_result"
    }
   ],
   "source": [
    "n_ones = X_train_oh.sum(axis=0)\n",
    "np.sum((n_ones > 100))"
   ]
  },
  {
   "cell_type": "markdown",
   "metadata": {},
   "source": [
    "There are 1981 columns in which '1' appears more than 100 times"
   ]
  },
  {
   "cell_type": "markdown",
   "metadata": {},
   "source": [
    "La liste 'cols_to_keep' ci-dessous permet de conserver les indices des modalités vues plus de cent fois.\n",
    "<font color=\"red\">\n",
    "(Noter l'usage de la fonction enumerate)\n",
    "</font>"
   ]
  },
  {
   "cell_type": "code",
   "execution_count": 79,
   "metadata": {
    "collapsed": true
   },
   "outputs": [],
   "source": [
    "n_ones_array = np.array(n_ones)[0]\n",
    "cols_to_keep = []\n",
    "for i in range(len(n_ones_array)):\n",
    "    if n_ones_array[i] > 100:\n",
    "        cols_to_keep.append(i)"
   ]
  },
  {
   "cell_type": "markdown",
   "metadata": {},
   "source": [
    "<font color=\"red\">En se restreignant aux colonnes de 'cols_to_keep', réentrainer le modèle de régression logistique et comparer les performances.</font>"
   ]
  },
  {
   "cell_type": "code",
   "execution_count": 82,
   "metadata": {
    "collapsed": true
   },
   "outputs": [],
   "source": [
    "X_train_oh_keep = X_train_oh[:, cols_to_keep]\n",
    "X_test_oh_keep = X_test_oh[:, cols_to_keep]"
   ]
  },
  {
   "cell_type": "code",
   "execution_count": 86,
   "metadata": {},
   "outputs": [
    {
     "data": {
      "text/plain": [
       "LogisticRegression(C=1.0, class_weight=None, dual=False, fit_intercept=True,\n",
       "          intercept_scaling=1, max_iter=100, multi_class='warn',\n",
       "          n_jobs=None, penalty='l2', random_state=None, solver='warn',\n",
       "          tol=0.0001, verbose=0, warm_start=False)"
      ]
     },
     "execution_count": 86,
     "metadata": {},
     "output_type": "execute_result"
    }
   ],
   "source": [
    "classifier = LogisticRegression()\n",
    "classifier.fit(X_train_oh_keep, y_train)"
   ]
  },
  {
   "cell_type": "code",
   "execution_count": 87,
   "metadata": {
    "collapsed": true
   },
   "outputs": [],
   "source": [
    "hard = classifier.predict(X_test_oh_keep)\n",
    "soft = classifier.predict_proba(X_test_oh_keep)[:,1]"
   ]
  },
  {
   "cell_type": "code",
   "execution_count": 88,
   "metadata": {},
   "outputs": [
    {
     "data": {
      "text/plain": [
       "array([[82161,   838],\n",
       "       [15782,  1219]], dtype=int64)"
      ]
     },
     "execution_count": 88,
     "metadata": {},
     "output_type": "execute_result"
    }
   ],
   "source": [
    "confusion_matrix_ = confusion_matrix(y_test, hard)\n",
    "confusion_matrix_"
   ]
  },
  {
   "cell_type": "code",
   "execution_count": 89,
   "metadata": {},
   "outputs": [
    {
     "data": {
      "image/png": "[encoded data removed]",
      "text/plain": [
       "<Figure size 432x288 with 1 Axes>"
      ]
     },
     "metadata": {
      "needs_background": "light"
     },
     "output_type": "display_data"
    }
   ],
   "source": [
    "pfa, power, _ = roc_curve(y_test, soft)\n",
    "plt.plot(pfa, power)\n",
    "plt.grid()"
   ]
  },
  {
   "cell_type": "code",
   "execution_count": 90,
   "metadata": {},
   "outputs": [
    {
     "data": {
      "text/plain": [
       "0.7394221019707243"
      ]
     },
     "execution_count": 90,
     "metadata": {},
     "output_type": "execute_result"
    }
   ],
   "source": [
    "roc_auc_score(y_test, soft)"
   ]
  },
  {
   "cell_type": "code",
   "execution_count": 91,
   "metadata": {},
   "outputs": [
    {
     "data": {
      "text/plain": [
       "0.4008818137528034"
      ]
     },
     "execution_count": 91,
     "metadata": {},
     "output_type": "execute_result"
    }
   ],
   "source": [
    "log_loss(y_test, soft)"
   ]
  },
  {
   "cell_type": "markdown",
   "metadata": {},
   "source": [
    "The AUC has increased from 0.62 to 0.73, and the log-loss has decreased form 0.44 to 0.4, so the performance is better."
   ]
  },
  {
   "cell_type": "markdown",
   "metadata": {},
   "source": [
    "# Gradient Boosting Decision Trees  \n",
    "<font color=\"red\">\n",
    "Importer GradientBoostingClassifier de scikit learn. \n",
    "Evaluer les performances, en utilisant une cinquantaine d'estimateurs. Pour comparer :  \n",
    "- On entrainera le classifieur sur les même colonnes \"cols_to_keep\" que celles de la régression logistique ;  \n",
    "- On choisira le learning_rate de manière adequate. </font>"
   ]
  },
  {
   "cell_type": "code",
   "execution_count": 92,
   "metadata": {
    "collapsed": true
   },
   "outputs": [],
   "source": [
    "from sklearn.ensemble import GradientBoostingClassifier\n",
    "gb = GradientBoostingClassifier(learning_rate=0.8, n_estimators=50, verbose=True)"
   ]
  },
  {
   "cell_type": "code",
   "execution_count": 93,
   "metadata": {},
   "outputs": [
    {
     "name": "stdout",
     "output_type": "stream",
     "text": [
      "      Iter       Train Loss   Remaining Time \n",
      "         1           0.8743            3.55m\n",
      "         2           0.8646            3.43m\n",
      "         3           0.8583            3.29m\n",
      "         4           0.8533            3.23m\n",
      "         5           0.8501            3.12m\n",
      "         6           0.8475            3.00m\n",
      "         7           0.8450            2.96m\n",
      "         8           0.8432            2.87m\n",
      "         9           0.8407            2.80m\n",
      "        10           0.8386            2.73m\n",
      "        20           0.8287            2.02m\n",
      "        30           0.8229            1.35m\n",
      "        40           0.8192           39.60s\n",
      "        50           0.8158            0.00s\n"
     ]
    },
    {
     "data": {
      "text/plain": [
       "GradientBoostingClassifier(criterion='friedman_mse', init=None,\n",
       "              learning_rate=0.8, loss='deviance', max_depth=3,\n",
       "              max_features=None, max_leaf_nodes=None,\n",
       "              min_impurity_decrease=0.0, min_impurity_split=None,\n",
       "              min_samples_leaf=1, min_samples_split=2,\n",
       "              min_weight_fraction_leaf=0.0, n_estimators=50,\n",
       "              n_iter_no_change=None, presort='auto', random_state=None,\n",
       "              subsample=1.0, tol=0.0001, validation_fraction=0.1,\n",
       "              verbose=True, warm_start=False)"
      ]
     },
     "execution_count": 93,
     "metadata": {},
     "output_type": "execute_result"
    }
   ],
   "source": [
    "gb.fit(X_train_oh_keep, y_train)"
   ]
  },
  {
   "cell_type": "code",
   "execution_count": 97,
   "metadata": {},
   "outputs": [
    {
     "data": {
      "text/plain": [
       "(0.4082174633532699, 0.726908441013325)"
      ]
     },
     "execution_count": 97,
     "metadata": {},
     "output_type": "execute_result"
    }
   ],
   "source": [
    "soft = gb.predict_proba(X_test_oh_keep)[:,1]\n",
    "log_loss(y_test,soft), roc_auc_score(y_test,soft)"
   ]
  },
  {
   "cell_type": "markdown",
   "metadata": {},
   "source": [
    "<font color=\"red\">\n",
    "Que fournit l'appel de gb.estimators_ ?\n",
    "</font>"
   ]
  },
  {
   "cell_type": "code",
   "execution_count": 94,
   "metadata": {},
   "outputs": [
    {
     "data": {
      "text/plain": [
       "array([DecisionTreeRegressor(criterion='friedman_mse', max_depth=3,\n",
       "           max_features=None, max_leaf_nodes=None,\n",
       "           min_impurity_decrease=0.0, min_impurity_split=None,\n",
       "           min_samples_leaf=1, min_samples_split=2,\n",
       "           min_weight_fraction_leaf=0.0, presort='auto',\n",
       "           random_state=<mtrand.RandomState object at 0x0000026E6B9D2750>,\n",
       "           splitter='best')], dtype=object)"
      ]
     },
     "execution_count": 94,
     "metadata": {},
     "output_type": "execute_result"
    }
   ],
   "source": [
    "gb.estimators_[0]"
   ]
  },
  {
   "cell_type": "markdown",
   "metadata": {},
   "source": [
    "gb.estimators_ gives us parameters of the decision tree regression"
   ]
  },
  {
   "cell_type": "markdown",
   "metadata": {},
   "source": [
    "On cherche désormais à utiliser le classifieur gb pour générer des features utilisables par la régression logistique.\n",
    "<font color=\"red\">\n",
    "Avec la méthode gb.apply du classifieur, générer une transformation leafs_train de la base de train Xtrain_oh[:,cols_to_keep] dont la colonne n correspond au numéro de feuille retourné par l'estimateur n\n",
    "</font>"
   ]
  },
  {
   "cell_type": "code",
   "execution_count": 99,
   "metadata": {
    "collapsed": true
   },
   "outputs": [],
   "source": [
    "leaf_train = gb.apply(X_train_oh_keep).reshape(900000, 50)\n",
    "leaf_test = gb.apply(X_test_oh_keep).reshape(100000, 50)"
   ]
  },
  {
   "cell_type": "markdown",
   "metadata": {},
   "source": [
    "<font color=\"red\">\n",
    "Effectuer l'encodage en dummies de ces nouvelles features.</font>"
   ]
  },
  {
   "cell_type": "code",
   "execution_count": 101,
   "metadata": {
    "collapsed": true
   },
   "outputs": [],
   "source": [
    "ohe = OneHotEncoder(handle_unknown='ignore')\n",
    "leaf_train_oh = ohe.fit_transform(leaf_train)\n",
    "leaf_test_oh = ohe.transform(leaf_test)"
   ]
  },
  {
   "cell_type": "markdown",
   "metadata": {},
   "source": [
    "<font color=\"red\">\n",
    "Avec la fonction hstack, créer une nouvelle matrice de features en concaténant horizontalement les nouvelles features ainsi créées, et les features précédemment utilisées pour la régression logistique. </font>"
   ]
  },
  {
   "cell_type": "code",
   "execution_count": 116,
   "metadata": {
    "collapsed": true
   },
   "outputs": [],
   "source": [
    "from scipy.sparse import csr_matrix, hstack\n",
    "Xtrain_concat = hstack([leaf_train_oh, X_train_oh_keep ])\n",
    "Xtest_concat = hstack([leaf_test_oh, X_test_oh_keep ])"
   ]
  },
  {
   "cell_type": "markdown",
   "metadata": {},
   "source": [
    "<font color=\"red\">\n",
    "Effectuer une régression logistique sur les nouvelles features.</font>"
   ]
  },
  {
   "cell_type": "code",
   "execution_count": 118,
   "metadata": {},
   "outputs": [
    {
     "data": {
      "text/plain": [
       "LogisticRegression(C=1.0, class_weight=None, dual=False, fit_intercept=True,\n",
       "          intercept_scaling=1, max_iter=100, multi_class='warn',\n",
       "          n_jobs=None, penalty='l2', random_state=None, solver='warn',\n",
       "          tol=0.0001, verbose=0, warm_start=False)"
      ]
     },
     "execution_count": 118,
     "metadata": {},
     "output_type": "execute_result"
    }
   ],
   "source": [
    "classifier = LogisticRegression()\n",
    "classifier.fit(Xtrain_concat, y_train)"
   ]
  },
  {
   "cell_type": "code",
   "execution_count": 119,
   "metadata": {
    "collapsed": true
   },
   "outputs": [],
   "source": [
    "hard = classifier.predict(Xtest_concat)\n",
    "soft = classifier.predict_proba(Xtest_concat)[:,1]"
   ]
  },
  {
   "cell_type": "code",
   "execution_count": 120,
   "metadata": {},
   "outputs": [
    {
     "data": {
      "text/plain": [
       "array([[82147,   852],\n",
       "       [15733,  1268]], dtype=int64)"
      ]
     },
     "execution_count": 120,
     "metadata": {},
     "output_type": "execute_result"
    }
   ],
   "source": [
    "confusion_matrix_ = confusion_matrix(y_test, hard)\n",
    "confusion_matrix_"
   ]
  },
  {
   "cell_type": "code",
   "execution_count": 121,
   "metadata": {},
   "outputs": [
    {
     "data": {
      "image/png": "[encoded data removed]",
      "text/plain": [
       "<Figure size 432x288 with 1 Axes>"
      ]
     },
     "metadata": {
      "needs_background": "light"
     },
     "output_type": "display_data"
    }
   ],
   "source": [
    "pfa, power, _ = roc_curve(y_test, soft)\n",
    "plt.plot(pfa, power)\n",
    "plt.grid()"
   ]
  },
  {
   "cell_type": "markdown",
   "metadata": {},
   "source": [
    "# XGBoost\n",
    "<br>\n",
    "<font color=\"red\">\n",
    "Importer XGBClassifier du package xgboost.  \n",
    "Entrainer le classifieur avec le même nombre d'estimateur et le même learning rate que précédemment, et en fixant le paramètre n_jobs=-1.  \n",
    "Comparer le résultat avec le GradientBoosting de scikit learn (risque et temps de calcul)\n",
    "</font>"
   ]
  },
  {
   "cell_type": "code",
   "execution_count": 122,
   "metadata": {
    "collapsed": true
   },
   "outputs": [],
   "source": [
    "import xgboost\n",
    "from xgboost import XGBClassifier"
   ]
  },
  {
   "cell_type": "code",
   "execution_count": 124,
   "metadata": {},
   "outputs": [
    {
     "name": "stdout",
     "output_type": "stream",
     "text": [
      "Wall time: 14.6 s\n"
     ]
    }
   ],
   "source": [
    "%%time\n",
    "xgb = XGBClassifier(learning_rate=0.8, n_estimators=50, verbose=True, n_jobs=-1)\n",
    "xgb.fit(X_train_oh_keep, y_train)"
   ]
  },
  {
   "cell_type": "markdown",
   "metadata": {},
   "source": [
    "XGBoost runs much faster than GradientBoosting"
   ]
  },
  {
   "cell_type": "code",
   "execution_count": 126,
   "metadata": {},
   "outputs": [
    {
     "data": {
      "text/plain": [
       "(0.40743721874333916, 0.7261779489592819)"
      ]
     },
     "execution_count": 126,
     "metadata": {},
     "output_type": "execute_result"
    }
   ],
   "source": [
    "soft = xgb.predict_proba(X_test_oh_keep)[:,1]\n",
    "log_loss(y_test,soft), roc_auc_score(y_test,soft)"
   ]
  },
  {
   "cell_type": "markdown",
   "metadata": {},
   "source": [
    "The log_loss and auc_score of GradientBoosting is (0.4082174633532699, 0.726908441013325). The result are equally good, but XGBoost runs much faster."
   ]
  },
  {
   "cell_type": "markdown",
   "metadata": {},
   "source": [
    "<font color=\"red\">\n",
    "Augmenter le nombre d'estimateurs et visualiser l'impact sur les performances (on sera aussi amené à agir sur le learning rate)</font>"
   ]
  },
  {
   "cell_type": "code",
   "execution_count": 134,
   "metadata": {},
   "outputs": [
    {
     "data": {
      "text/plain": [
       "<matplotlib.legend.Legend at 0x26e09fe6f98>"
      ]
     },
     "execution_count": 134,
     "metadata": {},
     "output_type": "execute_result"
    },
    {
     "data": {
      "image/png": "[encoded data removed]",
      "text/plain": [
       "<Figure size 432x288 with 1 Axes>"
      ]
     },
     "metadata": {
      "needs_background": "light"
     },
     "output_type": "display_data"
    }
   ],
   "source": [
    "estimators = [50, 100, 150, 200, 250, 300]\n",
    "loss = []\n",
    "auc = []\n",
    "for i in estimators:\n",
    "    xgb = XGBClassifier(learning_rate=0.8, n_estimators=i, verbose=True, n_jobs=-1)\n",
    "    xgb.fit(X_train_oh_keep, y_train)\n",
    "    soft = xgb.predict_proba(X_test_oh_keep)[:,1]\n",
    "    loss.append(log_loss(y_test,soft))\n",
    "    auc.append(roc_auc_score(y_test,soft))\n",
    "    pfa, power, _ = roc_curve(y_test, soft)\n",
    "    plt.plot(pfa, power, label='n_estimators=' + str(i))\n",
    "plt.grid()\n",
    "plt.legend()"
   ]
  },
  {
   "cell_type": "code",
   "execution_count": 135,
   "metadata": {},
   "outputs": [
    {
     "data": {
      "image/png": "[encoded data removed]",
      "text/plain": [
       "<Figure size 432x288 with 1 Axes>"
      ]
     },
     "metadata": {
      "needs_background": "light"
     },
     "output_type": "display_data"
    }
   ],
   "source": [
    "plt.plot(estimators, loss)\n",
    "plt.xlabel('n_estimators')\n",
    "plt.ylabel('log_loss')\n",
    "plt.show()"
   ]
  },
  {
   "cell_type": "code",
   "execution_count": 136,
   "metadata": {},
   "outputs": [
    {
     "data": {
      "image/png": "[encoded data removed]",
      "text/plain": [
       "<Figure size 432x288 with 1 Axes>"
      ]
     },
     "metadata": {
      "needs_background": "light"
     },
     "output_type": "display_data"
    }
   ],
   "source": [
    "plt.plot(estimators, auc)\n",
    "plt.xlabel('n_estimators')\n",
    "plt.ylabel('auc_score')\n",
    "plt.show()"
   ]
  },
  {
   "cell_type": "markdown",
   "metadata": {},
   "source": [
    "# Part 2"
   ]
  },
  {
   "cell_type": "markdown",
   "metadata": {},
   "source": [
    "# Hashing de features et random forest\n",
    "<br>\n",
    "Nous repartons des features brutes avant encodage en dummies (Xtrain, Xtest).\n",
    "<font color=\"red\">\n",
    "Afficher à nouveau le nombre de modalités uniques par feature dans Xtrain.\n",
    "</font>"
   ]
  },
  {
   "cell_type": "code",
   "execution_count": 12,
   "metadata": {},
   "outputs": [
    {
     "data": {
      "text/plain": [
       "20"
      ]
     },
     "execution_count": 12,
     "metadata": {},
     "output_type": "execute_result"
    }
   ],
   "source": [
    "X_train.shape[1]"
   ]
  },
  {
   "cell_type": "code",
   "execution_count": 13,
   "metadata": {},
   "outputs": [
    {
     "data": {
      "text/plain": [
       "Index(['hour', 'C1', 'banner_pos', 'site_category', 'app_id', 'app_domain',\n",
       "       'app_category', 'device_type', 'device_conn_type', 'C14', 'C15', 'C16',\n",
       "       'C17', 'C18', 'C19', 'C20', 'C21', 'weekday', 'user', 'user_site'],\n",
       "      dtype='object')"
      ]
     },
     "execution_count": 13,
     "metadata": {},
     "output_type": "execute_result"
    }
   ],
   "source": [
    "X_train.columns"
   ]
  },
  {
   "cell_type": "markdown",
   "metadata": {},
   "source": [
    "On veut définir une transformation qui regroupe les modalités les moins fréquentes au sein d'un même label \"isRare\".  \n",
    "Pour cela, nous choisissons de définir notre propre transformer.\n",
    "<font color=\"red\">\n",
    "Comprendre les étapes de fit et de transform.\n",
    "</font>"
   ]
  },
  {
   "cell_type": "code",
   "execution_count": 14,
   "metadata": {
    "collapsed": true
   },
   "outputs": [],
   "source": [
    "from sklearn.base import BaseEstimator, TransformerMixin\n",
    "\n",
    "class MergeRareTransformer(BaseEstimator, TransformerMixin):\n",
    "    \n",
    "    def __init__(self, col_names, threshold):\n",
    "        self.col_names = col_names\n",
    "        self.threshold = threshold\n",
    "\n",
    "    def fit(self, X, y=None):\n",
    "\n",
    "        X = pd.DataFrame(X)\n",
    "        counts_dict_list = []\n",
    "        ################## READ THIS #########################\n",
    "        for i in range(len(self.col_names)):\n",
    "            \n",
    "            serie = X[self.col_names[i]].value_counts()  # Série des counts de chaque modalité\n",
    "            rare_indexes = serie[serie<self.threshold[i]].index  # A quoi correspondent ces indices ?\n",
    "            frequent_indexes = serie[serie>=self.threshold[i]].index  # A quoi correspondent ces indices ?\n",
    "            dico = {x:'isRare' for x in rare_indexes}\n",
    "            dico.update({x: str(x) for x in frequent_indexes})\n",
    "            counts_dict_list.append(dico)   # Quel est le dictionnaire obtenu ?\n",
    "            \n",
    "        ######################################################\n",
    "            \n",
    "        self.counts_dict_list_ = counts_dict_list\n",
    "        return self\n",
    "\n",
    "    def transform(self, X):\n",
    "\n",
    "        Xt = pd.DataFrame()\n",
    "        ################## READ THIS #########################\n",
    "        for col, count_dict in zip(self.col_names, self.counts_dict_list_):\n",
    "            Xt[col] = X[col].apply(lambda x:count_dict[x] if x in count_dict else 'isRare')\n",
    "            # A quoi sert le \"else 'isRare'\" dans la transformation de la colonne ?\n",
    "        ######################################################\n",
    "\n",
    "        return Xt\n"
   ]
  },
  {
   "cell_type": "markdown",
   "metadata": {},
   "source": [
    "<font color=\"red\">\n",
    "Fitter et transformer le train set. On fusionnera toutes les modalités présentes moins de 20 fois dans chaque colonne.  \n",
    "Transformer le test set.\n",
    "</font>"
   ]
  },
  {
   "cell_type": "code",
   "execution_count": 15,
   "metadata": {
    "collapsed": true
   },
   "outputs": [],
   "source": [
    "mg = MergeRareTransformer(col_names=X_train.columns,threshold=[20] * len(X_train.columns))\n",
    "mg.fit(X_train)\n",
    "X_train_mg = mg.transform(X_train)\n",
    "X_test_mg = mg.transform(X_test)"
   ]
  },
  {
   "cell_type": "markdown",
   "metadata": {},
   "source": [
    "<font color=\"red\">\n",
    "En appliquant la méthode .value_counts(), combien d'éléments de la colonne Xtrain_mg['app_domain'] sont désormais labelisés comme \"rares\" ?\n",
    "</font>"
   ]
  },
  {
   "cell_type": "code",
   "execution_count": 20,
   "metadata": {},
   "outputs": [
    {
     "data": {
      "text/plain": [
       "7801e8d9    606390\n",
       "2347f47a    116467\n",
       "ae637522     41928\n",
       "5c5a694b     25289\n",
       "82e27996     16869\n",
       "d9b5648e     15709\n",
       "0e8616ad     14784\n",
       "b9528b13     14284\n",
       "b8d325c3     11953\n",
       "aefc06bd      6644\n",
       "df32afa9      6412\n",
       "33da2e74      5911\n",
       "6f7ca2ba      4990\n",
       "5b9c592b      2448\n",
       "885c7f3f      1468\n",
       "5c620f04      1419\n",
       "45a51db4      1219\n",
       "b5f3b24a      1093\n",
       "813f3323       544\n",
       "0654b444       514\n",
       "isRare         513\n",
       "ad63ec9b       388\n",
       "c6824def       306\n",
       "15ec7f39       275\n",
       "a8b0bf20       266\n",
       "99b4c806       219\n",
       "828da833       185\n",
       "448ca2e3       167\n",
       "f2f777fb       157\n",
       "43cf4f06       149\n",
       "47464e95        99\n",
       "d6feb1a4        95\n",
       "2b627705        89\n",
       "1ea19ec4        72\n",
       "db829551        69\n",
       "6a0a3a9d        59\n",
       "18eb4e75        56\n",
       "0d79ee56        53\n",
       "9ec164d3        51\n",
       "e5d5313f        46\n",
       "b12ff13e        42\n",
       "27ee373d        36\n",
       "b408d42a        30\n",
       "5ac0b939        28\n",
       "1ed56ded        27\n",
       "bb6bcbae        27\n",
       "3feeed1e        26\n",
       "63f57be0        25\n",
       "15c23f8e        25\n",
       "7eec2ab0        24\n",
       "7a9371fa        21\n",
       "dcdba109        20\n",
       "afdf1f54        20\n",
       "Name: app_domain, dtype: int64"
      ]
     },
     "execution_count": 20,
     "metadata": {},
     "output_type": "execute_result"
    }
   ],
   "source": [
    "X_train_mg['app_domain'].value_counts()"
   ]
  },
  {
   "cell_type": "markdown",
   "metadata": {},
   "source": [
    "513 labels became \"isRare\""
   ]
  },
  {
   "cell_type": "markdown",
   "metadata": {},
   "source": [
    "<font color=\"red\">\n",
    "Dans la base de train, afficher le nombre de modalité par colonne.</font>"
   ]
  },
  {
   "cell_type": "code",
   "execution_count": 21,
   "metadata": {},
   "outputs": [
    {
     "data": {
      "text/plain": [
       "Index(['hour', 'C1', 'banner_pos', 'site_category', 'app_id', 'app_domain',\n",
       "       'app_category', 'device_type', 'device_conn_type', 'C14', 'C15', 'C16',\n",
       "       'C17', 'C18', 'C19', 'C20', 'C21', 'weekday', 'user', 'user_site'],\n",
       "      dtype='object')"
      ]
     },
     "execution_count": 21,
     "metadata": {},
     "output_type": "execute_result"
    }
   ],
   "source": [
    "X_train_mg.columns"
   ]
  },
  {
   "cell_type": "markdown",
   "metadata": {},
   "source": [
    "Les modalités sont des objets arbitraires du type : 234, 'isRare', etc. Nous allons les transformer en entiers avec le hashing trick.\n",
    "<font color=\"red\">\n",
    "Pour comprendre le fonctionnement de la fonction \"hash\", l'appliquer à une chaîne de caractère quelconque.\n",
    "</font>"
   ]
  },
  {
   "cell_type": "code",
   "execution_count": 44,
   "metadata": {},
   "outputs": [
    {
     "data": {
      "text/plain": [
       "879128"
      ]
     },
     "execution_count": 44,
     "metadata": {},
     "output_type": "execute_result"
    }
   ],
   "source": [
    "import hashlib\n",
    "hash('isRare')%1000000"
   ]
  },
  {
   "cell_type": "markdown",
   "metadata": {},
   "source": [
    "On créée deux nouvelles dataframe Xtrain_ha, Xtest_ha, contenant le résultat du hashing.\n",
    "<font color=\"red\">\n",
    "Avec la méthode .apply, transformer itérativement les colonnes en appliquant à chacune le reste de la division euclidienne du hash par 1000000. Exemple : \n",
    "</font>\n",
    "<p>\n",
    "<center>\n",
    "2060777048690<font color=\"red\">918393</font>  -->  918393\n",
    "</center>"
   ]
  },
  {
   "cell_type": "code",
   "execution_count": 35,
   "metadata": {
    "collapsed": true
   },
   "outputs": [],
   "source": [
    "X_train_ha = pd.DataFrame()\n",
    "X_test_ha = pd.DataFrame()\n",
    "for col in X_train_mg.columns:\n",
    "    X_train_ha[col] = X_train_mg[col].apply(lambda x: hash(x)%1000000)\n",
    "    X_test_ha[col] = X_test_mg[col].apply(lambda x: hash(x)%1000000)"
   ]
  },
  {
   "cell_type": "markdown",
   "metadata": {},
   "source": [
    "<font color=\"red\">\n",
    "Visualiser le contenu des dataframe obtenues. </font>"
   ]
  },
  {
   "cell_type": "code",
   "execution_count": 37,
   "metadata": {},
   "outputs": [
    {
     "data": {
      "text/html": [
       "<div>\n",
       "<style scoped>\n",
       "    .dataframe tbody tr th:only-of-type {\n",
       "        vertical-align: middle;\n",
       "    }\n",
       "\n",
       "    .dataframe tbody tr th {\n",
       "        vertical-align: top;\n",
       "    }\n",
       "\n",
       "    .dataframe thead th {\n",
       "        text-align: right;\n",
       "    }\n",
       "</style>\n",
       "<table border=\"1\" class=\"dataframe\">\n",
       "  <thead>\n",
       "    <tr style=\"text-align: right;\">\n",
       "      <th></th>\n",
       "      <th>hour</th>\n",
       "      <th>C1</th>\n",
       "      <th>banner_pos</th>\n",
       "      <th>site_category</th>\n",
       "      <th>app_id</th>\n",
       "      <th>app_domain</th>\n",
       "      <th>app_category</th>\n",
       "      <th>device_type</th>\n",
       "      <th>device_conn_type</th>\n",
       "      <th>C14</th>\n",
       "      <th>C15</th>\n",
       "      <th>C16</th>\n",
       "      <th>C17</th>\n",
       "      <th>C18</th>\n",
       "      <th>C19</th>\n",
       "      <th>C20</th>\n",
       "      <th>C21</th>\n",
       "      <th>weekday</th>\n",
       "      <th>user</th>\n",
       "      <th>user_site</th>\n",
       "    </tr>\n",
       "  </thead>\n",
       "  <tbody>\n",
       "    <tr>\n",
       "      <th>92438</th>\n",
       "      <td>251955</td>\n",
       "      <td>455746</td>\n",
       "      <td>682632</td>\n",
       "      <td>967423</td>\n",
       "      <td>336556</td>\n",
       "      <td>178495</td>\n",
       "      <td>268275</td>\n",
       "      <td>254720</td>\n",
       "      <td>647118</td>\n",
       "      <td>866417</td>\n",
       "      <td>745064</td>\n",
       "      <td>784425</td>\n",
       "      <td>509278</td>\n",
       "      <td>701814</td>\n",
       "      <td>782896</td>\n",
       "      <td>18592</td>\n",
       "      <td>879436</td>\n",
       "      <td>701814</td>\n",
       "      <td>879128</td>\n",
       "      <td>360237</td>\n",
       "    </tr>\n",
       "    <tr>\n",
       "      <th>60898</th>\n",
       "      <td>742787</td>\n",
       "      <td>145527</td>\n",
       "      <td>701814</td>\n",
       "      <td>967423</td>\n",
       "      <td>513679</td>\n",
       "      <td>847217</td>\n",
       "      <td>405957</td>\n",
       "      <td>682632</td>\n",
       "      <td>261165</td>\n",
       "      <td>866417</td>\n",
       "      <td>745064</td>\n",
       "      <td>784425</td>\n",
       "      <td>509278</td>\n",
       "      <td>701814</td>\n",
       "      <td>782896</td>\n",
       "      <td>18592</td>\n",
       "      <td>879436</td>\n",
       "      <td>682632</td>\n",
       "      <td>879128</td>\n",
       "      <td>360237</td>\n",
       "    </tr>\n",
       "    <tr>\n",
       "      <th>556199</th>\n",
       "      <td>254720</td>\n",
       "      <td>145527</td>\n",
       "      <td>701814</td>\n",
       "      <td>808151</td>\n",
       "      <td>628482</td>\n",
       "      <td>178495</td>\n",
       "      <td>11539</td>\n",
       "      <td>682632</td>\n",
       "      <td>261165</td>\n",
       "      <td>838420</td>\n",
       "      <td>745064</td>\n",
       "      <td>784425</td>\n",
       "      <td>605825</td>\n",
       "      <td>701814</td>\n",
       "      <td>671630</td>\n",
       "      <td>18592</td>\n",
       "      <td>708088</td>\n",
       "      <td>701814</td>\n",
       "      <td>879128</td>\n",
       "      <td>354733</td>\n",
       "    </tr>\n",
       "    <tr>\n",
       "      <th>193129</th>\n",
       "      <td>451247</td>\n",
       "      <td>145527</td>\n",
       "      <td>682632</td>\n",
       "      <td>808151</td>\n",
       "      <td>628482</td>\n",
       "      <td>178495</td>\n",
       "      <td>11539</td>\n",
       "      <td>682632</td>\n",
       "      <td>701814</td>\n",
       "      <td>633838</td>\n",
       "      <td>745064</td>\n",
       "      <td>784425</td>\n",
       "      <td>481786</td>\n",
       "      <td>701814</td>\n",
       "      <td>890123</td>\n",
       "      <td>500284</td>\n",
       "      <td>929788</td>\n",
       "      <td>682632</td>\n",
       "      <td>879128</td>\n",
       "      <td>915351</td>\n",
       "    </tr>\n",
       "    <tr>\n",
       "      <th>231985</th>\n",
       "      <td>274807</td>\n",
       "      <td>145527</td>\n",
       "      <td>701814</td>\n",
       "      <td>276626</td>\n",
       "      <td>628482</td>\n",
       "      <td>178495</td>\n",
       "      <td>11539</td>\n",
       "      <td>682632</td>\n",
       "      <td>701814</td>\n",
       "      <td>616957</td>\n",
       "      <td>745064</td>\n",
       "      <td>784425</td>\n",
       "      <td>509278</td>\n",
       "      <td>701814</td>\n",
       "      <td>782896</td>\n",
       "      <td>346328</td>\n",
       "      <td>879436</td>\n",
       "      <td>6486</td>\n",
       "      <td>879128</td>\n",
       "      <td>553827</td>\n",
       "    </tr>\n",
       "  </tbody>\n",
       "</table>\n",
       "</div>"
      ],
      "text/plain": [
       "          hour      C1  banner_pos  site_category  app_id  app_domain  \\\n",
       "92438   251955  455746      682632         967423  336556      178495   \n",
       "60898   742787  145527      701814         967423  513679      847217   \n",
       "556199  254720  145527      701814         808151  628482      178495   \n",
       "193129  451247  145527      682632         808151  628482      178495   \n",
       "231985  274807  145527      701814         276626  628482      178495   \n",
       "\n",
       "        app_category  device_type  device_conn_type     C14     C15     C16  \\\n",
       "92438         268275       254720            647118  866417  745064  784425   \n",
       "60898         405957       682632            261165  866417  745064  784425   \n",
       "556199         11539       682632            261165  838420  745064  784425   \n",
       "193129         11539       682632            701814  633838  745064  784425   \n",
       "231985         11539       682632            701814  616957  745064  784425   \n",
       "\n",
       "           C17     C18     C19     C20     C21  weekday    user  user_site  \n",
       "92438   509278  701814  782896   18592  879436   701814  879128     360237  \n",
       "60898   509278  701814  782896   18592  879436   682632  879128     360237  \n",
       "556199  605825  701814  671630   18592  708088   701814  879128     354733  \n",
       "193129  481786  701814  890123  500284  929788   682632  879128     915351  \n",
       "231985  509278  701814  782896  346328  879436     6486  879128     553827  "
      ]
     },
     "execution_count": 37,
     "metadata": {},
     "output_type": "execute_result"
    }
   ],
   "source": [
    "X_train_ha.head()"
   ]
  },
  {
   "cell_type": "markdown",
   "metadata": {},
   "source": [
    "<font color=\"red\">\n",
    "Entrainer un classifieur random forest, l'entraîner sur Xtrain_ha, et évaluer ses performances sur Xtest_ha.  \n",
    "On pourra choisir ~1000 estimateurs, min_samples_leaf=20 et verbose=1 pour être tenu au courant de l'avancée des calculs.  \n",
    "Comment fixer le paramètre n_jobs ?\n",
    "</font>"
   ]
  },
  {
   "cell_type": "code",
   "execution_count": 38,
   "metadata": {},
   "outputs": [
    {
     "name": "stderr",
     "output_type": "stream",
     "text": [
      "[Parallel(n_jobs=-1)]: Using backend ThreadingBackend with 8 concurrent workers.\n",
      "[Parallel(n_jobs=-1)]: Done  34 tasks      | elapsed:   23.7s\n",
      "[Parallel(n_jobs=-1)]: Done 184 tasks      | elapsed:  1.9min\n",
      "[Parallel(n_jobs=-1)]: Done 434 tasks      | elapsed:  4.5min\n",
      "[Parallel(n_jobs=-1)]: Done 784 tasks      | elapsed:  8.2min\n",
      "[Parallel(n_jobs=-1)]: Done 1000 out of 1000 | elapsed: 10.6min finished\n"
     ]
    },
    {
     "data": {
      "text/plain": [
       "RandomForestClassifier(bootstrap=True, class_weight=None, criterion='gini',\n",
       "            max_depth=None, max_features='auto', max_leaf_nodes=None,\n",
       "            min_impurity_decrease=0.0, min_impurity_split=None,\n",
       "            min_samples_leaf=20, min_samples_split=2,\n",
       "            min_weight_fraction_leaf=0.0, n_estimators=1000, n_jobs=-1,\n",
       "            oob_score=False, random_state=None, verbose=True,\n",
       "            warm_start=False)"
      ]
     },
     "execution_count": 38,
     "metadata": {},
     "output_type": "execute_result"
    }
   ],
   "source": [
    "from sklearn.ensemble import RandomForestClassifier\n",
    "rf = RandomForestClassifier(n_estimators=1000, min_samples_leaf=20, verbose=True, n_jobs=-1)\n",
    "rf.fit(X_train_ha, y_train)"
   ]
  },
  {
   "cell_type": "code",
   "execution_count": 39,
   "metadata": {},
   "outputs": [
    {
     "name": "stderr",
     "output_type": "stream",
     "text": [
      "[Parallel(n_jobs=8)]: Using backend ThreadingBackend with 8 concurrent workers.\n",
      "[Parallel(n_jobs=8)]: Done  34 tasks      | elapsed:    0.1s\n",
      "[Parallel(n_jobs=8)]: Done 184 tasks      | elapsed:    1.0s\n",
      "[Parallel(n_jobs=8)]: Done 434 tasks      | elapsed:    2.3s\n",
      "[Parallel(n_jobs=8)]: Done 784 tasks      | elapsed:    4.1s\n",
      "[Parallel(n_jobs=8)]: Done 1000 out of 1000 | elapsed:    5.3s finished\n"
     ]
    },
    {
     "data": {
      "text/plain": [
       "(0.4012243135236611, 0.7401093068928805)"
      ]
     },
     "execution_count": 39,
     "metadata": {},
     "output_type": "execute_result"
    }
   ],
   "source": [
    "from sklearn.metrics import roc_curve, roc_auc_score, log_loss\n",
    "soft = rf.predict_proba(X_test_ha)[:,1]\n",
    "log_loss(y_test,soft),roc_auc_score(y_test,soft)"
   ]
  },
  {
   "cell_type": "markdown",
   "metadata": {},
   "source": [
    "<font color=\"red\">\n",
    "Comparer avec les performances de xgboost sur le même modèle.</font>"
   ]
  },
  {
   "cell_type": "markdown",
   "metadata": {
    "collapsed": true
   },
   "source": [
    "The score of the xgboost was (0.40743721874333916, 0.7261779489592819). So this hashing way preforms a little bit better than xgboost when n_estimators=50. But as the n_estimators grows to 300, the result was almost as well as here. "
   ]
  },
  {
   "cell_type": "markdown",
   "metadata": {},
   "source": [
    "<font color=\"red\">\n",
    "Afficher la courbe roc et la courbe de lift pour le classifieur obtenu.</font>"
   ]
  },
  {
   "cell_type": "code",
   "execution_count": 40,
   "metadata": {},
   "outputs": [
    {
     "data": {
      "image/png": "[encoded data removed]",
      "text/plain": [
       "<Figure size 432x288 with 1 Axes>"
      ]
     },
     "metadata": {
      "needs_background": "light"
     },
     "output_type": "display_data"
    }
   ],
   "source": [
    "pfa, power, _ = roc_curve(y_test, soft)\n",
    "plt.plot(pfa, power)\n",
    "plt.grid()"
   ]
  },
  {
   "cell_type": "code",
   "execution_count": 41,
   "metadata": {},
   "outputs": [
    {
     "data": {
      "image/png": "[encoded data removed]",
      "text/plain": [
       "<Figure size 432x288 with 1 Axes>"
      ]
     },
     "metadata": {
      "needs_background": "light"
     },
     "output_type": "display_data"
    }
   ],
   "source": [
    "from utils import plotlift\n",
    "plotlift(y_test, soft)"
   ]
  },
  {
   "cell_type": "markdown",
   "metadata": {},
   "source": [
    "<font color=\"red\">\n",
    "Exercice facultatif :  \n",
    "- utiliser xgboost pour générer des features  \n",
    "- entrainer un random forest sur les features initiales ET les nouvelles features générées.\n",
    "</font>"
   ]
  },
  {
   "cell_type": "code",
   "execution_count": null,
   "metadata": {
    "collapsed": true
   },
   "outputs": [],
   "source": []
  },
  {
   "cell_type": "markdown",
   "metadata": {},
   "source": [
    "Le hashing produit des colonnes d'entiers ordonnés arbitrairement. On se demande si on peut améliorer les performances en ajoutant d'autre colonnes hashées différemment.\n",
    "<br>\n",
    "<font color=\"red\">Ajouter des colonnes de hash en hashant récursivement les précédentes : compléter le code ci-dessous.</font>"
   ]
  },
  {
   "cell_type": "code",
   "execution_count": 45,
   "metadata": {
    "collapsed": true
   },
   "outputs": [],
   "source": [
    "Xtrain_haha = pd.DataFrame(X_train_ha).copy()\n",
    "Xtest_haha = pd.DataFrame(X_test_ha).copy()\n",
    "\n",
    "n_hash = 3\n",
    "cols = X_train_ha.columns\n",
    "for l in range(n_hash):\n",
    "    for col in cols:\n",
    "        Xtrain_haha[col+'-hash'] = Xtrain_haha[col].apply(lambda x: hash(x)%1000000)\n",
    "        Xtest_haha[col+'-hash'] = Xtest_haha[col].apply(lambda x: hash(x)%1000000)\n",
    "    cols = [col + '-hash' for col in cols]"
   ]
  },
  {
   "cell_type": "markdown",
   "metadata": {},
   "source": [
    "<font color=\"red\">Evaluer les performances de Random Forest et/ou xgboost</font>"
   ]
  },
  {
   "cell_type": "code",
   "execution_count": 47,
   "metadata": {},
   "outputs": [
    {
     "name": "stderr",
     "output_type": "stream",
     "text": [
      "[Parallel(n_jobs=-1)]: Using backend ThreadingBackend with 8 concurrent workers.\n",
      "[Parallel(n_jobs=-1)]: Done  34 tasks      | elapsed:   53.3s\n",
      "[Parallel(n_jobs=-1)]: Done 184 tasks      | elapsed:  4.0min\n",
      "[Parallel(n_jobs=-1)]: Done 434 tasks      | elapsed:  9.0min\n",
      "[Parallel(n_jobs=-1)]: Done 784 tasks      | elapsed: 16.3min\n",
      "[Parallel(n_jobs=-1)]: Done 1000 out of 1000 | elapsed: 20.7min finished\n"
     ]
    },
    {
     "data": {
      "text/plain": [
       "RandomForestClassifier(bootstrap=True, class_weight=None, criterion='gini',\n",
       "            max_depth=None, max_features='auto', max_leaf_nodes=None,\n",
       "            min_impurity_decrease=0.0, min_impurity_split=None,\n",
       "            min_samples_leaf=20, min_samples_split=2,\n",
       "            min_weight_fraction_leaf=0.0, n_estimators=1000, n_jobs=-1,\n",
       "            oob_score=False, random_state=None, verbose=True,\n",
       "            warm_start=False)"
      ]
     },
     "execution_count": 47,
     "metadata": {},
     "output_type": "execute_result"
    }
   ],
   "source": [
    "rf = RandomForestClassifier(n_estimators=1000, min_samples_leaf=20, verbose=True, n_jobs=-1)\n",
    "rf.fit(Xtrain_haha, y_train)"
   ]
  },
  {
   "cell_type": "code",
   "execution_count": 48,
   "metadata": {},
   "outputs": [
    {
     "name": "stderr",
     "output_type": "stream",
     "text": [
      "[Parallel(n_jobs=8)]: Using backend ThreadingBackend with 8 concurrent workers.\n",
      "[Parallel(n_jobs=8)]: Done  34 tasks      | elapsed:    0.3s\n",
      "[Parallel(n_jobs=8)]: Done 184 tasks      | elapsed:    1.7s\n",
      "[Parallel(n_jobs=8)]: Done 434 tasks      | elapsed:    4.2s\n",
      "[Parallel(n_jobs=8)]: Done 784 tasks      | elapsed:    7.6s\n",
      "[Parallel(n_jobs=8)]: Done 1000 out of 1000 | elapsed:    9.6s finished\n"
     ]
    },
    {
     "data": {
      "text/plain": [
       "(0.399998295279131, 0.7418036500360746)"
      ]
     },
     "execution_count": 48,
     "metadata": {},
     "output_type": "execute_result"
    }
   ],
   "source": [
    "soft = rf.predict_proba(Xtest_haha)[:,1]\n",
    "log_loss(y_test,soft),roc_auc_score(y_test,soft)"
   ]
  },
  {
   "cell_type": "markdown",
   "metadata": {},
   "source": [
    "The performence has improved."
   ]
  },
  {
   "cell_type": "code",
   "execution_count": 49,
   "metadata": {},
   "outputs": [
    {
     "data": {
      "image/png": "[encoded data removed]",
      "text/plain": [
       "<Figure size 432x288 with 1 Axes>"
      ]
     },
     "metadata": {
      "needs_background": "light"
     },
     "output_type": "display_data"
    }
   ],
   "source": [
    "pfa, power, _ = roc_curve(y_test, soft)\n",
    "plt.plot(pfa, power)\n",
    "plt.grid()"
   ]
  },
  {
   "cell_type": "code",
   "execution_count": 50,
   "metadata": {},
   "outputs": [
    {
     "data": {
      "image/png": "[encoded data removed]",
      "text/plain": [
       "<Figure size 432x288 with 1 Axes>"
      ]
     },
     "metadata": {
      "needs_background": "light"
     },
     "output_type": "display_data"
    }
   ],
   "source": [
    "plotlift(y_test, soft)"
   ]
  },
  {
   "cell_type": "markdown",
   "metadata": {},
   "source": [
    "# Field-aware Factorization Machines\n",
    "<br>\n",
    "<font color=\"red\">\n",
    "Afficher les noms des colonnes de la matrice Xtrain_ha\n",
    "</font>"
   ]
  },
  {
   "cell_type": "code",
   "execution_count": 52,
   "metadata": {},
   "outputs": [
    {
     "data": {
      "text/plain": [
       "Index(['hour', 'C1', 'banner_pos', 'site_category', 'app_id', 'app_domain',\n",
       "       'app_category', 'device_type', 'device_conn_type', 'C14', 'C15', 'C16',\n",
       "       'C17', 'C18', 'C19', 'C20', 'C21', 'weekday', 'user', 'user_site'],\n",
       "      dtype='object')"
      ]
     },
     "execution_count": 52,
     "metadata": {},
     "output_type": "execute_result"
    }
   ],
   "source": [
    "X_train_ha.columns"
   ]
  },
  {
   "cell_type": "markdown",
   "metadata": {},
   "source": [
    "<font color=\"red\">\n",
    "Créer une liste de liste de colonnes. La nème sous-liste comporte les noms des colonnes du nème champ.</font>"
   ]
  },
  {
   "cell_type": "code",
   "execution_count": 53,
   "metadata": {
    "collapsed": true
   },
   "outputs": [],
   "source": [
    "fields = []\n",
    "for i in range(len(X_train_ha.columns)):\n",
    "    fields.append([i, X_train_ha.columns[i]])"
   ]
  },
  {
   "cell_type": "markdown",
   "metadata": {},
   "source": [
    "<font color=\"red\">\n",
    "Avec enumerate, générer un dictionnaire qui à chaque nom de colonne associe son champ.</font>"
   ]
  },
  {
   "cell_type": "code",
   "execution_count": 91,
   "metadata": {
    "collapsed": true
   },
   "outputs": [],
   "source": [
    "dicFields = { name_col : i  for i,f in enumerate(fields) for name_col in f[1:]}"
   ]
  },
  {
   "cell_type": "markdown",
   "metadata": {},
   "source": [
    "Pour formatter les données au format LibFFM, nous devons nous assurer que deux colonnes différentes possèdent des modalités différentes. Pour cela, nous ajoutons devant chaque modalité une chaîne de caractère caractéristique de la colonne.\n",
    "<center>\n",
    "x --> 'nom de la colonne ' + str(x)\n",
    "</center>\n",
    "<br>\n",
    "<font color=\"red\">Effectuer cette transformation avec la méthode apply</font>"
   ]
  },
  {
   "cell_type": "code",
   "execution_count": 69,
   "metadata": {
    "collapsed": true
   },
   "outputs": [],
   "source": [
    "Xtrain_ffm = pd.DataFrame()\n",
    "Xtest_ffm = pd.DataFrame()\n",
    "for col in X_train_ha.columns:\n",
    "    Xtrain_ffm[col] = X_train_ha[col].apply(lambda x: col+str(x))\n",
    "    Xtest_ffm[col] = X_test_ha[col].apply(lambda x: col+str(x))"
   ]
  },
  {
   "cell_type": "markdown",
   "metadata": {},
   "source": [
    "Avec np.unique, on créée la liste de toutes les modalités apparaissant dans toutes les colonnes."
   ]
  },
  {
   "cell_type": "code",
   "execution_count": 77,
   "metadata": {
    "collapsed": true
   },
   "outputs": [],
   "source": [
    "allvals = []\n",
    "allcols_ffm = [col for f in fields for col in f[1:]]  # Toutes les colonnes appartenant à l'un des champ\n",
    "for col in allcols_ffm:\n",
    "    allvals.append(np.unique(Xtrain_ffm[col]))\n",
    "allvals= [val for sublist in allvals for val in sublist]"
   ]
  },
  {
   "cell_type": "markdown",
   "metadata": {},
   "source": [
    "<font color=\"red\">\n",
    "En utilisant \"enumerate\", créer un dictionnaire qui à chaque valeur associe son rang dans la liste allvals.</font>"
   ]
  },
  {
   "cell_type": "code",
   "execution_count": 97,
   "metadata": {
    "collapsed": true
   },
   "outputs": [],
   "source": [
    "dicFeat = {val:i for i,val in enumerate(allvals)}"
   ]
  },
  {
   "cell_type": "markdown",
   "metadata": {},
   "source": [
    "On les dataframe comme suit : \n",
    "dans chaque colonne \"col\", la valeur \"x\" est remplacée par la chaîne de caractère \"f:v:1\", où f est le champ associé à la colonne et v est l'indice de la modalité x.\n",
    "<font color=\"red\">\n",
    "Inspecter le code ci-dessous.</font>"
   ]
  },
  {
   "cell_type": "code",
   "execution_count": 99,
   "metadata": {
    "collapsed": true
   },
   "outputs": [],
   "source": [
    "for col in allcols_ffm:\n",
    "    f = dicFields[col]\n",
    "    Xtrain_ffm[col] = Xtrain_ffm[col].apply(lambda x:\"{}:{}:1\".format(f,dicFeat[x]) if x in dicFeat else \"\")\n",
    "    Xtest_ffm[col] = Xtest_ffm[col].apply(lambda x:\"{}:{}:1\".format(f,dicFeat[x]) if x in dicFeat else \"\")"
   ]
  },
  {
   "cell_type": "markdown",
   "metadata": {},
   "source": [
    "<font color=\"red\">Pour les deux dataframe obtenues, concaténer à gauche la colonne de clics ytrain ou ytest correspondante</font>"
   ]
  },
  {
   "cell_type": "code",
   "execution_count": 172,
   "metadata": {
    "collapsed": true
   },
   "outputs": [],
   "source": [
    "yXtrain_ffm = pd.concat( [y_train.astype(str), Xtrain_ffm] ,axis=1)\n",
    "yXtest_ffm = pd.concat( [y_test.astype(str), Xtest_ffm] ,axis=1)"
   ]
  },
  {
   "cell_type": "code",
   "execution_count": 213,
   "metadata": {
    "collapsed": true
   },
   "outputs": [],
   "source": [
    "#yXtrain_ffm.to_csv('train.csv', index=False )\n",
    "#yXtest_ffm.to_csv('test.csv', index=False )"
   ]
  },
  {
   "cell_type": "markdown",
   "metadata": {},
   "source": [
    "<font color=\"red\">Que produit la commande ci-dessous ?</font>"
   ]
  },
  {
   "cell_type": "code",
   "execution_count": 174,
   "metadata": {
    "collapsed": true
   },
   "outputs": [],
   "source": [
    "train_w = yXtrain_ffm.apply(lambda row:' '.join(row.values),axis=1).values\n",
    "test_w = yXtest_ffm.apply(lambda row:' '.join(row.values),axis=1).values"
   ]
  },
  {
   "cell_type": "markdown",
   "metadata": {},
   "source": [
    "The elements in the dataframe are combined with the split of a space."
   ]
  },
  {
   "cell_type": "markdown",
   "metadata": {},
   "source": [
    "<font color=\"red\">Ecrire les dataframe ci-dessus dans un fichier texte</font>"
   ]
  },
  {
   "cell_type": "code",
   "execution_count": 175,
   "metadata": {
    "collapsed": true
   },
   "outputs": [],
   "source": [
    "thefile = open('train.txt','w')\n",
    "for item in train_w:\n",
    "    thefile.write(\"%s\\n\" % item)\n",
    "\n",
    "# Faire de même pour le test set\n"
   ]
  },
  {
   "cell_type": "code",
   "execution_count": 176,
   "metadata": {
    "collapsed": true
   },
   "outputs": [],
   "source": [
    "thefile2 = open('test.txt','w')\n",
    "for item in test_w:\n",
    "    thefile2.write(\"%s\\n\" % item)"
   ]
  },
  {
   "cell_type": "markdown",
   "metadata": {},
   "source": [
    "Pour apprendre le modèle de FFM, on utilise la librairie LibFFM https://www.csie.ntu.edu.tw/~cjlin/libffm/  \n",
    "Dans le répertoire notebooks/ se trouvent deux exécutables : ffm-train et ffm-predict.  \n",
    "Dans jupyter notebook, le point d'exclamation ! permet de lancer une commande bash.  \n",
    "L'usage est le suivant : \n",
    "\n",
    "-   `ffm-train'\n",
    "\n",
    "    usage: ffm-train [options] training_set_file [model_file]\n",
    "\n",
    "    options:  \n",
    "    -l <lambda>: set regularization parameter (default 0.00002)  \n",
    "    -k <factor>: set number of latent factors (default 4)  \n",
    "    -t <iteration>: set number of iterations (default 15)  \n",
    "    -r <eta>: set learning rate (default 0.2)  \n",
    "    -s <nr_threads>: set number of threads (default 1)  \n",
    "    -p <path>: set path to the validation set  \n",
    "    --quiet: quiet model (no output)  \n",
    "    --no-norm: disable instance-wise normalization  \n",
    "    --auto-stop: stop at the iteration that achieves the best validation loss (must be used with -p)  \n",
    "<br>\n",
    "<font color=\"red\">Apprendre le modèle. On pourra :  \n",
    "- utiliser un paramètre de régularisation de 0.00001  \n",
    "- utiliser un learning rate de 0.05  \n",
    "- utiliser de l'ordre de 15 facteurs latents\n",
    "- effectuer de l'ordre de 30 itérations  \n",
    "- avec l'option -p, passer en paramètres de validation le ficher de test  \n",
    "- activer le mode --autostop \n",
    "</font> "
   ]
  },
  {
   "cell_type": "code",
   "execution_count": 18,
   "metadata": {},
   "outputs": [
    {
     "name": "stdout",
     "output_type": "stream",
     "text": [
      "First check if the text file has already been converted to binary format (0.0 seconds)\n",
      "Binary file NOT found. Convert text file to binary file (3.1 seconds)\n",
      "First check if the text file has already been converted to binary format (0.0 seconds)\n",
      "Binary file NOT found. Convert text file to binary file (0.3 seconds)\n",
      "iter   tr_logloss   va_logloss      tr_time\n",
      "   1      0.41554      0.40620          4.2\n",
      "   2      0.40450      0.40210          8.3\n",
      "   3      0.40185      0.40048         12.3\n",
      "   4      0.40031      0.39942         16.5\n",
      "   5      0.39921      0.39869         20.6\n",
      "   6      0.39838      0.39805         24.6\n",
      "   7      0.39770      0.39753         28.8\n",
      "   8      0.39710      0.39724         33.0\n",
      "   9      0.39657      0.39689         37.2\n",
      "  10      0.39613      0.39671         41.4\n",
      "  11      0.39570      0.39646         45.5\n",
      "  12      0.39530      0.39631         49.6\n",
      "  13      0.39490      0.39614         53.8\n",
      "  14      0.39457      0.39604         58.0\n",
      "  15      0.39424      0.39600         62.1\n",
      "  16      0.39388      0.39585         66.2\n",
      "  17      0.39359      0.39592\n",
      "Auto-stop. Use model at 16th iteration.\n"
     ]
    }
   ],
   "source": [
    "!../data/ffm-train -l 0.00001 -r 0.05 -k 15 -t 30 -p test.txt --auto-stop train.txt ffm.model"
   ]
  },
  {
   "cell_type": "markdown",
   "metadata": {},
   "source": [
    "L'usage de ffm-predict est : ffm-predict nom-fichier-test nom-fichier-modèle fichier-dans-lequel-ecrire-la-prediction  \n",
    "<font color=\"red\">Effectuer la prédiction.</font>"
   ]
  },
  {
   "cell_type": "code",
   "execution_count": 19,
   "metadata": {},
   "outputs": [
    {
     "name": "stdout",
     "output_type": "stream",
     "text": [
      "logloss = 0.39328\n",
      "logloss = 0.39585\n"
     ]
    }
   ],
   "source": [
    "!../data/ffm-predict train.txt ffm.model ffm.train_prediction\n",
    "!../data/ffm-predict test.txt ffm.model ffm.test_prediction"
   ]
  },
  {
   "cell_type": "markdown",
   "metadata": {},
   "source": [
    "<font color=\"red\">Calculer la log_loss et l'aire sous la courbe roc.</font>"
   ]
  },
  {
   "cell_type": "code",
   "execution_count": 3,
   "metadata": {
    "collapsed": true
   },
   "outputs": [],
   "source": [
    "soft = pd.read_csv('ffm.test_prediction', header=None)[0]"
   ]
  },
  {
   "cell_type": "code",
   "execution_count": 9,
   "metadata": {
    "collapsed": true
   },
   "outputs": [],
   "source": [
    "test = pd.read_csv('test.txt', header=None)[0]"
   ]
  },
  {
   "cell_type": "code",
   "execution_count": 20,
   "metadata": {
    "collapsed": true
   },
   "outputs": [],
   "source": [
    "y_test = []\n",
    "for i in range(len(test)):\n",
    "    y_test.append(int(test[i][0]))\n",
    "y_test = np.array(y_test)"
   ]
  },
  {
   "cell_type": "code",
   "execution_count": 22,
   "metadata": {},
   "outputs": [
    {
     "data": {
      "image/png": "[encoded data removed]",
      "text/plain": [
       "<Figure size 432x288 with 1 Axes>"
      ]
     },
     "metadata": {},
     "output_type": "display_data"
    }
   ],
   "source": [
    "from sklearn.metrics import roc_curve, roc_auc_score, log_loss\n",
    "pfa, power, _ = roc_curve(y_test, soft)\n",
    "plt.plot(pfa, power)\n",
    "plt.grid()"
   ]
  },
  {
   "cell_type": "markdown",
   "metadata": {},
   "source": [
    "# Blending"
   ]
  },
  {
   "cell_type": "markdown",
   "metadata": {},
   "source": [
    "<font color=\"red\">\n",
    "Séparer les données de train Xtrain en deux avec train_test_split.</font>"
   ]
  },
  {
   "cell_type": "code",
   "execution_count": 36,
   "metadata": {
    "collapsed": true
   },
   "outputs": [],
   "source": [
    "Xtrain_meth, Xtrain_blend, ytrain_meth, ytrain_blend = train_test_split(X_train,y_train,test_size=0.2)"
   ]
  },
  {
   "cell_type": "markdown",
   "metadata": {},
   "source": [
    "<font color=\"red\">\n",
    "Entrainer une régression logistique sur Xtrain_meth, et évaluer ses scores sur Xtrain_blend (conserver dans un vecteur).</font>"
   ]
  },
  {
   "cell_type": "code",
   "execution_count": 183,
   "metadata": {
    "collapsed": true
   },
   "outputs": [],
   "source": [
    "from sklearn.preprocessing import OneHotEncoder\n",
    "ohe = OneHotEncoder(handle_unknown='ignore').fit(X_train)\n",
    "Xtrain_meth_oh = ohe.transform(Xtrain_meth)\n",
    "Xtrain_blend_oh = ohe.transform(Xtrain_blend)"
   ]
  },
  {
   "cell_type": "code",
   "execution_count": 184,
   "metadata": {},
   "outputs": [
    {
     "data": {
      "text/plain": [
       "LogisticRegression(C=1.0, class_weight=None, dual=False, fit_intercept=True,\n",
       "          intercept_scaling=1, max_iter=100, multi_class='warn',\n",
       "          n_jobs=None, penalty='l2', random_state=None, solver='warn',\n",
       "          tol=0.0001, verbose=0, warm_start=False)"
      ]
     },
     "execution_count": 184,
     "metadata": {},
     "output_type": "execute_result"
    }
   ],
   "source": [
    "from sklearn.linear_model import LogisticRegression\n",
    "classifier = LogisticRegression()\n",
    "classifier.fit(Xtrain_meth_oh, ytrain_meth)"
   ]
  },
  {
   "cell_type": "code",
   "execution_count": 185,
   "metadata": {
    "collapsed": true
   },
   "outputs": [],
   "source": [
    "logreg_score = classifier.predict_proba(Xtrain_blend_oh)[:,1]"
   ]
  },
  {
   "cell_type": "markdown",
   "metadata": {},
   "source": [
    "<font color=\"red\">\n",
    "Entrainer un xgboost sur Xtrain_meth, et évaluer ses scores sur Xtrain_blend (conserver dans un vecteur).</font>"
   ]
  },
  {
   "cell_type": "code",
   "execution_count": 186,
   "metadata": {},
   "outputs": [
    {
     "data": {
      "text/plain": [
       "XGBClassifier(base_score=0.5, booster='gbtree', colsample_bylevel=1,\n",
       "       colsample_bytree=1, gamma=0, learning_rate=0.8, max_delta_step=0,\n",
       "       max_depth=3, min_child_weight=1, missing=None, n_estimators=200,\n",
       "       n_jobs=-1, nthread=None, objective='binary:logistic',\n",
       "       random_state=0, reg_alpha=0, reg_lambda=1, scale_pos_weight=1,\n",
       "       seed=None, silent=True, subsample=1, verbose=True)"
      ]
     },
     "execution_count": 186,
     "metadata": {},
     "output_type": "execute_result"
    }
   ],
   "source": [
    "import xgboost\n",
    "from xgboost import XGBClassifier\n",
    "xgb = XGBClassifier(learning_rate=0.8, n_estimators=50, verbose=True, n_jobs=-1)\n",
    "xgb.fit(Xtrain_meth_oh, ytrain_meth)"
   ]
  },
  {
   "cell_type": "code",
   "execution_count": 188,
   "metadata": {
    "collapsed": true
   },
   "outputs": [],
   "source": [
    "xgb_score = xgb.predict_proba(Xtrain_blend_oh)[:,1]"
   ]
  },
  {
   "cell_type": "markdown",
   "metadata": {},
   "source": [
    "<font color=\"red\">\n",
    "Entrainer un random forest sur Xtrain_meth, et évaluer ses scores sur Xtrain_blend (conserver dans un vecteur).</font>"
   ]
  },
  {
   "cell_type": "code",
   "execution_count": 190,
   "metadata": {},
   "outputs": [
    {
     "data": {
      "text/plain": [
       "RandomForestClassifier(bootstrap=True, class_weight=None, criterion='gini',\n",
       "            max_depth=None, max_features='auto', max_leaf_nodes=None,\n",
       "            min_impurity_decrease=0.0, min_impurity_split=None,\n",
       "            min_samples_leaf=10, min_samples_split=2,\n",
       "            min_weight_fraction_leaf=0.0, n_estimators=50, n_jobs=-1,\n",
       "            oob_score=False, random_state=None, verbose=0,\n",
       "            warm_start=False)"
      ]
     },
     "execution_count": 190,
     "metadata": {},
     "output_type": "execute_result"
    }
   ],
   "source": [
    "from sklearn.ensemble import RandomForestClassifier\n",
    "rf = RandomForestClassifier(n_estimators=50, min_samples_leaf=10, n_jobs=-1)\n",
    "rf.fit(Xtrain_meth_oh, ytrain_meth)"
   ]
  },
  {
   "cell_type": "code",
   "execution_count": 191,
   "metadata": {
    "collapsed": true
   },
   "outputs": [],
   "source": [
    "rf_score = rf.predict_proba(Xtrain_blend_oh)[:,1]"
   ]
  },
  {
   "cell_type": "markdown",
   "metadata": {},
   "source": [
    "<font color=\"red\">\n",
    "Entrainer un extraTrees sur Xtrain_meth, et évaluer ses scores sur Xtrain_blend (conserver dans un vecteur).</font>"
   ]
  },
  {
   "cell_type": "code",
   "execution_count": 192,
   "metadata": {},
   "outputs": [
    {
     "data": {
      "text/plain": [
       "ExtraTreesClassifier(bootstrap=False, class_weight=None, criterion='gini',\n",
       "           max_depth=None, max_features='auto', max_leaf_nodes=None,\n",
       "           min_impurity_decrease=0.0, min_impurity_split=None,\n",
       "           min_samples_leaf=10, min_samples_split=2,\n",
       "           min_weight_fraction_leaf=0.0, n_estimators=50, n_jobs=-1,\n",
       "           oob_score=False, random_state=None, verbose=0, warm_start=False)"
      ]
     },
     "execution_count": 192,
     "metadata": {},
     "output_type": "execute_result"
    }
   ],
   "source": [
    "from sklearn.ensemble import ExtraTreesClassifier\n",
    "et = ExtraTreesClassifier(n_estimators=50, min_samples_leaf=10, n_jobs=-1)\n",
    "et.fit(Xtrain_meth_oh, ytrain_meth)"
   ]
  },
  {
   "cell_type": "code",
   "execution_count": 193,
   "metadata": {
    "collapsed": true
   },
   "outputs": [],
   "source": [
    "et_score = et.predict_proba(Xtrain_blend_oh)[:,1]"
   ]
  },
  {
   "cell_type": "markdown",
   "metadata": {},
   "source": [
    "<font color=\"red\">\n",
    "Entrainer un FFM sur Xtrain_meth, et évaluer ses scores sur Xtrain_blend (conserver dans un vecteur).</font>"
   ]
  },
  {
   "cell_type": "code",
   "execution_count": 37,
   "metadata": {
    "collapsed": true
   },
   "outputs": [],
   "source": [
    "fields_meth = []\n",
    "for i in range (len(Xtrain_meth.columns)):\n",
    "    fields_meth.append([i, Xtrain_meth.columns[i]])\n",
    "dicFields_meth = { name_col : i  for i,f in enumerate(fields_meth) for name_col in f[1:]}"
   ]
  },
  {
   "cell_type": "code",
   "execution_count": 40,
   "metadata": {},
   "outputs": [
    {
     "data": {
      "text/plain": [
       "Index(['hour', 'C1', 'banner_pos', 'site_category', 'app_id', 'app_domain',\n",
       "       'app_category', 'device_type', 'device_conn_type', 'C14', 'C15', 'C16',\n",
       "       'C17', 'C18', 'C19', 'C20', 'C21', 'user', 'user_site'],\n",
       "      dtype='object')"
      ]
     },
     "execution_count": 40,
     "metadata": {},
     "output_type": "execute_result"
    }
   ],
   "source": [
    "Xtrain_meth.columns"
   ]
  },
  {
   "cell_type": "code",
   "execution_count": 42,
   "metadata": {
    "collapsed": true
   },
   "outputs": [],
   "source": [
    "Xtrain_meth_ffm = pd.DataFrame()\n",
    "Xtest_meth_ffm = pd.DataFrame()\n",
    "for col in Xtrain_meth.columns:\n",
    "    Xtrain_meth_ffm[col] = Xtrain_meth[col].apply(lambda x: col+str(x))\n",
    "    Xtest_meth_ffm[col] = Xtrain_blend[col].apply(lambda x: col+str(x))"
   ]
  },
  {
   "cell_type": "code",
   "execution_count": 43,
   "metadata": {
    "collapsed": true
   },
   "outputs": [],
   "source": [
    "allvals_meth = []\n",
    "allcols_meth_ffm = [col for f in fields_meth for col in f[1:]] \n",
    "for col in allcols_meth_ffm:\n",
    "    allvals_meth.append(np.unique(Xtrain_meth_ffm[col]))\n",
    "allvals_meth= [val for sublist in allvals_meth for val in sublist]"
   ]
  },
  {
   "cell_type": "code",
   "execution_count": 44,
   "metadata": {
    "collapsed": true
   },
   "outputs": [],
   "source": [
    "dicFeat_meth = {val:i for i,val in enumerate(allvals_meth)}\n",
    "for col in allcols_meth_ffm:\n",
    "    f = dicFields_meth[col]\n",
    "    Xtrain_meth_ffm[col] = Xtrain_meth_ffm[col].apply(lambda x:\"{}:{}:1\".format(f,dicFeat_meth[x]) if x in dicFeat_meth else \"\")\n",
    "    Xtest_meth_ffm[col] = Xtest_meth_ffm[col].apply(lambda x:\"{}:{}:1\".format(f,dicFeat_meth[x]) if x in dicFeat_meth else \"\")"
   ]
  },
  {
   "cell_type": "code",
   "execution_count": 45,
   "metadata": {
    "collapsed": true
   },
   "outputs": [],
   "source": [
    "yXtrain_meth_ffm = pd.concat( [ytrain_meth.astype(str), Xtrain_meth_ffm] ,axis=1)\n",
    "yXtest_meth_ffm = pd.concat( [ytrain_blend.astype(str), Xtest_meth_ffm] ,axis=1)"
   ]
  },
  {
   "cell_type": "code",
   "execution_count": 46,
   "metadata": {
    "collapsed": true
   },
   "outputs": [],
   "source": [
    "train_meth_w = yXtrain_meth_ffm.apply(lambda row:' '.join(row.values),axis=1).values\n",
    "test_meth_w = yXtest_meth_ffm.apply(lambda row:' '.join(row.values),axis=1).values"
   ]
  },
  {
   "cell_type": "code",
   "execution_count": 47,
   "metadata": {
    "collapsed": true
   },
   "outputs": [],
   "source": [
    "thefile3 = open('train_meth.txt','w')\n",
    "for item in train_meth_w:\n",
    "    thefile3.write(\"%s\\n\" % item)\n",
    "thefile4 = open('test_meth.txt','w')\n",
    "for item in test_meth_w:\n",
    "    thefile4.write(\"%s\\n\" % item)"
   ]
  },
  {
   "cell_type": "code",
   "execution_count": 50,
   "metadata": {},
   "outputs": [
    {
     "name": "stdout",
     "output_type": "stream",
     "text": [
      "First check if the text file has already been converted to binary format (0.0 seconds)\n",
      "Binary file NOT found. Convert text file to binary file (2.5 seconds)\n",
      "First check if the text file has already been converted to binary format (0.0 seconds)\n",
      "Binary file NOT found. Convert text file to binary file Segmentation fault (core dumped)\n"
     ]
    }
   ],
   "source": [
    "!../data/ffm-train -l 0.00001 -r 0.05 -k 15 -t 30 -p test_meth.txt --auto-stop train_meth.txt ffm_meth.model"
   ]
  },
  {
   "cell_type": "markdown",
   "metadata": {},
   "source": [
    "<font color=\"red\">\n",
    "Concaténer tous les scores obtenus sur Xtrain_blend pour former une même matrice de design Zblend.</font>"
   ]
  },
  {
   "cell_type": "code",
   "execution_count": 51,
   "metadata": {
    "collapsed": true
   },
   "outputs": [],
   "source": [
    "Zblend = np.zeros((len(ytrain_blend),4))\n",
    "Zblend[:,0] = logreg_score\n",
    "Zblend[:,1] = xgb_score\n",
    "Zblend[:,2] = rf_score\n",
    "Zblend[:,3] = et_score"
   ]
  },
  {
   "cell_type": "markdown",
   "metadata": {},
   "source": [
    "<font color=\"red\">\n",
    "Entrainer une régression logistique sur (Zblend,ytrain_blend).</font>"
   ]
  },
  {
   "cell_type": "code",
   "execution_count": 198,
   "metadata": {},
   "outputs": [
    {
     "data": {
      "text/plain": [
       "LogisticRegression(C=1.0, class_weight=None, dual=False, fit_intercept=True,\n",
       "          intercept_scaling=1, max_iter=100, multi_class='warn',\n",
       "          n_jobs=None, penalty='l2', random_state=None, solver='warn',\n",
       "          tol=0.0001, verbose=0, warm_start=False)"
      ]
     },
     "execution_count": 198,
     "metadata": {},
     "output_type": "execute_result"
    }
   ],
   "source": [
    "from sklearn.linear_model import LogisticRegression\n",
    "lr = LogisticRegression()\n",
    "lr.fit(Zblend, ytrain_blend)"
   ]
  },
  {
   "cell_type": "markdown",
   "metadata": {},
   "source": [
    "<font color=\"red\">\n",
    "Evaluer les performances de la méthode sur la base de test.</font>"
   ]
  },
  {
   "cell_type": "code",
   "execution_count": 200,
   "metadata": {},
   "outputs": [
    {
     "data": {
      "text/plain": [
       "(0.40316176675952875, 0.7448819350685599)"
      ]
     },
     "execution_count": 200,
     "metadata": {},
     "output_type": "execute_result"
    }
   ],
   "source": [
    "from sklearn.metrics import roc_curve, roc_auc_score, log_loss\n",
    "soft = lr.predict_proba(Zblend)[:,1]\n",
    "log_loss(ytrain_blend,soft),roc_auc_score(ytrain_blend,soft)"
   ]
  },
  {
   "cell_type": "code",
   "execution_count": 218,
   "metadata": {},
   "outputs": [
    {
     "data": {
      "text/plain": [
       "<matplotlib.legend.Legend at 0x2a01ddaea20>"
      ]
     },
     "execution_count": 218,
     "metadata": {},
     "output_type": "execute_result"
    },
    {
     "data": {
      "image/png": "[encoded data removed]",
      "text/plain": [
       "<Figure size 432x288 with 1 Axes>"
      ]
     },
     "metadata": {
      "needs_background": "light"
     },
     "output_type": "display_data"
    }
   ],
   "source": [
    "label_name = ['LogisticRegression', 'XGBoost', 'RandomForest', 'ExtraTrees', 'FFM']\n",
    "for i in range(Zblend.shape[1]):\n",
    "    pfa, power, _ = roc_curve(ytrain_blend, Zblend[:,i])\n",
    "    plt.plot(pfa, power, label=label_name[i])\n",
    "pfa, power, _ = roc_curve(ytrain_blend, soft)\n",
    "plt.plot(pfa, power, label='Zblend')\n",
    "plt.grid()\n",
    "plt.legend()"
   ]
  },
  {
   "cell_type": "markdown",
   "metadata": {},
   "source": [
    "# Jeu de données complet  \n",
    "La base complète contient 40.000.000 d'instances. Elle se situe dans le répertoire avazu-large-data-set.zip.  \n",
    "Afin de vous épargner le temps de prétraitement (labelisation, hashing), les fichiers train_ha.zip et test_ha.zip contiennent les résultats du feature engineering précédent :\n",
    "- fusion des modalités les moins fréquentes (<20) au sein d'un même label\n",
    "- hashing des valeurs obtenues.  "
   ]
  },
  {
   "cell_type": "code",
   "execution_count": 13,
   "metadata": {
    "collapsed": true
   },
   "outputs": [],
   "source": [
    "train_ha = pd.read_csv('data/train_ha.zip')\n",
    "test_ha = pd.read_csv('data/test_ha.zip')"
   ]
  },
  {
   "cell_type": "markdown",
   "metadata": {},
   "source": [
    "<font color=\"red\">Inspecter la première ligne de train_ha. Créer le vecteur ytrain correspondant à la colonne des clics, et la dataframe Xtrain_ha correspondant aux features hashées. Faire de même avec test_ha.</font>"
   ]
  },
  {
   "cell_type": "code",
   "execution_count": 3,
   "metadata": {},
   "outputs": [
    {
     "data": {
      "text/plain": [
       "click                    1\n",
       "hour                497260\n",
       "C1                  979896\n",
       "banner_pos          711755\n",
       "site_category       597610\n",
       "app_id              238638\n",
       "app_domain           27252\n",
       "app_category        654350\n",
       "device_type         711755\n",
       "device_conn_type    766453\n",
       "C14                 712124\n",
       "C15                 723362\n",
       "C16                 219618\n",
       "C17                 116136\n",
       "C18                 145757\n",
       "C19                 584514\n",
       "C20                 321746\n",
       "C21                 814338\n",
       "weekday             766453\n",
       "user                699685\n",
       "site                544630\n",
       "Name: 0, dtype: int64"
      ]
     },
     "execution_count": 3,
     "metadata": {},
     "output_type": "execute_result"
    }
   ],
   "source": [
    "train_ha.loc[0]"
   ]
  },
  {
   "cell_type": "code",
   "execution_count": 5,
   "metadata": {
    "collapsed": true
   },
   "outputs": [],
   "source": [
    "Xtrain_ha = train_ha.drop(columns=['click'])\n",
    "Xtest_ha = test_ha.drop(columns=['click'])"
   ]
  },
  {
   "cell_type": "code",
   "execution_count": 14,
   "metadata": {
    "collapsed": true
   },
   "outputs": [],
   "source": [
    "ytrain = train_ha['click']\n",
    "ytest = test_ha['click']"
   ]
  },
  {
   "cell_type": "code",
   "execution_count": 17,
   "metadata": {
    "collapsed": true
   },
   "outputs": [],
   "source": [
    "pd.DataFrame(ytrain).to_csv('ytrain_ha.csv',index=False)\n",
    "pd.DataFrame(ytest).to_csv('ytest_ha.csv',index=False)"
   ]
  },
  {
   "cell_type": "code",
   "execution_count": 18,
   "metadata": {},
   "outputs": [
    {
     "data": {
      "text/plain": [
       "373"
      ]
     },
     "execution_count": 18,
     "metadata": {},
     "output_type": "execute_result"
    }
   ],
   "source": [
    "del train_ha, test_ha\n",
    "import gc\n",
    "gc.collect()"
   ]
  },
  {
   "cell_type": "markdown",
   "metadata": {},
   "source": [
    "### SGD Classifier"
   ]
  },
  {
   "cell_type": "markdown",
   "metadata": {},
   "source": [
    "<font color=\"red\">Procéder à l'encodage en dummies</font>"
   ]
  },
  {
   "cell_type": "markdown",
   "metadata": {
    "collapsed": true
   },
   "source": [
    "Since the dataset is too large, I can't finish the dummies encode once. So I do this seperatly, by encoding each columns. After that, I merge them"
   ]
  },
  {
   "cell_type": "code",
   "execution_count": 2,
   "metadata": {
    "collapsed": true
   },
   "outputs": [],
   "source": [
    "from sklearn.preprocessing import OneHotEncoder\n",
    "from scipy import sparse"
   ]
  },
  {
   "cell_type": "code",
   "execution_count": 7,
   "metadata": {
    "collapsed": true
   },
   "outputs": [],
   "source": [
    "index = 0\n",
    "for col in Xtrain_ha.columns:\n",
    "    ohe = OneHotEncoder(handle_unknown='ignore', dtype='uint8')\n",
    "    matrix_1 = ohe.fit_transform(Xtrain_ha[col].values.reshape(-1,1))\n",
    "    matrix_2 = ohe.transform(Xtest_ha[col].values.reshape(-1,1))\n",
    "    filename1 = 'Xtrain_ha_oh_part'+str(index)+'.npz'\n",
    "    filename2 = 'Xtest_ha_oh_part'+str(index)+'.npz'\n",
    "    sparse.save_npz(filename1, matrix_1)\n",
    "    sparse.save_npz(filename2, matrix_2)\n",
    "    index += 1"
   ]
  },
  {
   "cell_type": "code",
   "execution_count": 3,
   "metadata": {
    "collapsed": true
   },
   "outputs": [],
   "source": [
    "import gc\n",
    "columns_name = ['hour', 'C1', 'banner_pos', 'site_category', 'app_id',\n",
    "       'app_domain', 'app_category', 'device_type', 'device_conn_type', 'C14',\n",
    "       'C15', 'C16', 'C17', 'C18', 'C19', 'C20', 'C21', 'weekday', 'user',\n",
    "       'site']"
   ]
  },
  {
   "cell_type": "code",
   "execution_count": 16,
   "metadata": {},
   "outputs": [
    {
     "data": {
      "text/plain": [
       "462"
      ]
     },
     "execution_count": 16,
     "metadata": {},
     "output_type": "execute_result"
    }
   ],
   "source": [
    "del Xtrain_ha, Xtest_ha\n",
    "gc.collect()"
   ]
  },
  {
   "cell_type": "code",
   "execution_count": 5,
   "metadata": {
    "collapsed": true
   },
   "outputs": [],
   "source": [
    "Xtrain_ha_oh = sparse.load_npz('columns/Xtrain_ha_oh_part0.npz')\n",
    "#Xtest_ha_oh = sparse.load_npz('Xtest_ha_oh_part0.npz')\n",
    "index = 1\n",
    "for col in columns_name[1:]:\n",
    "    filename1 = 'columns/Xtrain_ha_oh_part'+str(index)+'.npz'\n",
    "    #filename2 = 'Xtest_ha_oh_part'+str(index)+'.npz'\n",
    "    temp_train = sparse.load_npz(filename1)\n",
    "    #temp_test = sparse.load_npz(filename2)\n",
    "    Xtrain_ha_oh = sparse.hstack([Xtrain_ha_oh, temp_train])\n",
    "    #Xtest_ha_oh = sparse.hstack([Xtest_ha_oh, temp_test])\n",
    "    del temp_train#, temp_test\n",
    "    gc.collect()\n",
    "    index += 1\n",
    "sparse.save_npz('Xtrain_ha_oh.npz', Xtrain_ha_oh)\n",
    "#sparse.save_npz('Xtest_ha_oh.npz', Xtest_ha_oh)"
   ]
  },
  {
   "cell_type": "code",
   "execution_count": 8,
   "metadata": {
    "collapsed": true
   },
   "outputs": [],
   "source": [
    "Xtest_ha_oh = sparse.load_npz('columns/Xtest_ha_oh_part0.npz')\n",
    "index = 1\n",
    "for col in columns_name[1:]:\n",
    "    filename2 = 'columns/Xtest_ha_oh_part'+str(index)+'.npz'\n",
    "    temp_test = sparse.load_npz(filename2)\n",
    "    Xtest_ha_oh = sparse.hstack([Xtest_ha_oh, temp_test])\n",
    "    del temp_test\n",
    "    gc.collect()\n",
    "    index += 1\n",
    "sparse.save_npz('Xtest_ha_oh.npz', Xtest_ha_oh)"
   ]
  },
  {
   "cell_type": "markdown",
   "metadata": {},
   "source": [
    "Those two datasets were stored in the 'Xtrain_ha_oh.npz' and 'Xtest_ha_oh.npz'"
   ]
  },
  {
   "cell_type": "markdown",
   "metadata": {},
   "source": [
    "<font color=\"red\">Importer SGDClassifier de sklearn.linear_model et effectuer 5 passes sur les données (utiliser les options loss='log' et n_jobs=-1). \n",
    "</font>"
   ]
  },
  {
   "cell_type": "code",
   "execution_count": 2,
   "metadata": {
    "collapsed": true
   },
   "outputs": [],
   "source": [
    "from scipy import sparse\n",
    "Xtrain_ha_oh = sparse.load_npz('Xtrain_ha_oh.npz')\n",
    "Xtest_ha_oh = sparse.load_npz('Xtest_ha_oh.npz')"
   ]
  },
  {
   "cell_type": "code",
   "execution_count": 3,
   "metadata": {
    "collapsed": true
   },
   "outputs": [],
   "source": [
    "ytrain = pd.read_csv('ytrain_ha.csv')\n",
    "ytest= pd.read_csv('ytest_ha.csv')"
   ]
  },
  {
   "cell_type": "code",
   "execution_count": 5,
   "metadata": {},
   "outputs": [
    {
     "name": "stdout",
     "output_type": "stream",
     "text": [
      "Wall time: 2min 44s\n"
     ]
    }
   ],
   "source": [
    "%%time\n",
    "from sklearn.linear_model import SGDClassifier\n",
    "sgd = SGDClassifier(loss='log')\n",
    "sgd.fit(Xtrain_ha_oh, ytrain)"
   ]
  },
  {
   "cell_type": "code",
   "execution_count": 6,
   "metadata": {},
   "outputs": [
    {
     "data": {
      "text/plain": [
       "(0.4047358768140673, 0.7336089537796453)"
      ]
     },
     "execution_count": 6,
     "metadata": {},
     "output_type": "execute_result"
    }
   ],
   "source": [
    "from sklearn.metrics import roc_curve, roc_auc_score, log_loss\n",
    "soft = sgd.predict_proba(Xtest_ha_oh)[:,1]\n",
    "log_loss(ytest,soft),roc_auc_score(ytest,soft)"
   ]
  },
  {
   "cell_type": "markdown",
   "metadata": {},
   "source": [
    "### XGBoost   \n",
    "<font color=\"red\">Mettre en oeuvre un classifieur xgboost (avec un nombre modéré d'estimateurs pour limiter le temps de calcul)</font>"
   ]
  },
  {
   "cell_type": "code",
   "execution_count": 4,
   "metadata": {
    "collapsed": true
   },
   "outputs": [],
   "source": [
    "import xgboost\n",
    "from xgboost import XGBClassifier"
   ]
  },
  {
   "cell_type": "code",
   "execution_count": 53,
   "metadata": {
    "collapsed": true
   },
   "outputs": [],
   "source": [
    "from scipy import sparse\n",
    "Xtrain_ha_oh = sparse.load_npz('../data/Xtrain_ha_oh.npz')\n",
    "Xtest_ha_oh = sparse.load_npz('../data/Xtest_ha_oh.npz')"
   ]
  },
  {
   "cell_type": "code",
   "execution_count": null,
   "metadata": {
    "collapsed": true
   },
   "outputs": [],
   "source": [
    "ytrain = pd.read_csv('../data/ytrain_ha.csv')\n",
    "ytest= pd.read_csv('../data/ytest_ha.csv')"
   ]
  },
  {
   "cell_type": "code",
   "execution_count": null,
   "metadata": {
    "collapsed": true
   },
   "outputs": [],
   "source": [
    "%%time\n",
    "xgb = XGBClassifier(n_estimators=10)\n",
    "xgb.fit(Xtrain_ha_oh, ytrain)"
   ]
  },
  {
   "cell_type": "code",
   "execution_count": null,
   "metadata": {
    "collapsed": true
   },
   "outputs": [],
   "source": [
    "from sklearn.metrics import roc_curve, roc_auc_score, log_loss\n",
    "soft = xgb.predict_proba(Xtest_ha_oh)[:,1]\n",
    "log_loss(ytest,soft),roc_auc_score(ytest,soft)"
   ]
  },
  {
   "cell_type": "markdown",
   "metadata": {},
   "source": [
    "### Random Forest\n",
    "Pour des raisons de temps d'exécution, nous adoptons ici l'implémentation Distributed Random Forest de H2O https://www.h2o.ai/ plus performante."
   ]
  },
  {
   "cell_type": "code",
   "execution_count": null,
   "metadata": {
    "collapsed": true
   },
   "outputs": [],
   "source": [
    "import h2o\n",
    "h2o.init()"
   ]
  },
  {
   "cell_type": "code",
   "execution_count": null,
   "metadata": {
    "collapsed": true
   },
   "outputs": [],
   "source": [
    "hftrain = h2o.H2OFrame(train_ha)\n",
    "hftest =  h2o.H2OFrame(test_ha)"
   ]
  },
  {
   "cell_type": "code",
   "execution_count": null,
   "metadata": {
    "collapsed": true
   },
   "outputs": [],
   "source": [
    "from h2o.estimators.random_forest import H2ORandomForestEstimator\n",
    "rf.train(x=list(range(1,train_ha.shape[1])), y=0, training_frame=hftrain)"
   ]
  },
  {
   "cell_type": "code",
   "execution_count": null,
   "metadata": {
    "collapsed": true
   },
   "outputs": [],
   "source": [
    "soft = h2o.as_list(rf.predict(hftest))\n",
    "log_loss(ytest,soft),roc_auc_score(ytest,soft)"
   ]
  },
  {
   "cell_type": "markdown",
   "metadata": {},
   "source": [
    "Score obtenu : logloss ~0.395, AUC ~0.75  "
   ]
  },
  {
   "cell_type": "markdown",
   "metadata": {},
   "source": [
    "### Factorization Machines\n",
    "Afin de vous éviter le formattage des données au format libFFM, celles ci ont été pré-enregistrée dans ../data/testffm-big.txt et ../data/trainffm-big.txt. \n",
    "<br>\n",
    "<font color=\"red\">Utiliser la commande bash \"head -1 nom_fichier\" pour afficher la première ligne des données de train.</font>"
   ]
  },
  {
   "cell_type": "code",
   "execution_count": null,
   "metadata": {
    "collapsed": true
   },
   "outputs": [],
   "source": []
  },
  {
   "cell_type": "markdown",
   "metadata": {},
   "source": [
    "<font color=\"red\">Lancer l'apprentissage des ffm avec les paramètres -l 0.00001 -k 15 -r 0.05 et en précisant le nombre d'itérations souhaité (une passe sur les données prend environ 180 secondes sur une m5-12xlarge).</font>"
   ]
  },
  {
   "cell_type": "code",
   "execution_count": 23,
   "metadata": {},
   "outputs": [
    {
     "name": "stdout",
     "output_type": "stream",
     "text": [
      "First check if the text file has already been converted to binary format (0.0 seconds)\n",
      "Binary file NOT found. Convert text file to binary file terminate called without an active exception\n",
      "Aborted (core dumped)\n"
     ]
    }
   ],
   "source": [
    "!../data/ffm-train -l 0.00001 -k 15 -r 0.05 -t 3 -p ../data/testffm.txt --auto-stop ../data/trainffm.txt ffm_complet.model"
   ]
  },
  {
   "cell_type": "markdown",
   "metadata": {},
   "source": [
    "<font color=\"red\">Effectuer la prédiction et l'évaluation des performances (log-loss, AUC).</font>"
   ]
  },
  {
   "cell_type": "code",
   "execution_count": null,
   "metadata": {
    "collapsed": true
   },
   "outputs": [],
   "source": [
    "#!../data/ffm_predict testffm.txt ffm_complet.model ffm_complet.test_prediction"
   ]
  },
  {
   "cell_type": "code",
   "execution_count": null,
   "metadata": {
    "collapsed": true
   },
   "outputs": [],
   "source": []
  }
 ],
 "metadata": {
  "kernelspec": {
   "display_name": "Python 3",
   "language": "python",
   "name": "python3"
  },
  "language_info": {
   "codemirror_mode": {
    "name": "ipython",
    "version": 3
   },
   "file_extension": ".py",
   "mimetype": "text/x-python",
   "name": "python",
   "nbconvert_exporter": "python",
   "pygments_lexer": "ipython3",
   "version": "3.5.6"
  }
 },
 "nbformat": 4,
 "nbformat_minor": 2
}
